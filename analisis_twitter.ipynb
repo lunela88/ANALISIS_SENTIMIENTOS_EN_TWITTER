{
 "cells": [
  {
   "cell_type": "markdown",
   "metadata": {},
   "source": [
    "# Prueba 1 Análisis de Sentimientos de Twitter \n",
    "## Hurtado, Escobar, Bustamante - Grupo: Los Mashin Lerning\n",
    "\n",
    "# HITO 1 :  Puntos 1 y 2\n",
    "\n",
    "# 1. Análisis Exploratorio\n",
    "\n",
    "\n",
    "###  ➤ Importamos las librerías clásicas"
   ]
  },
  {
   "cell_type": "code",
   "execution_count": 1,
   "metadata": {},
   "outputs": [],
   "source": [
    "import pandas as pd\n",
    "import numpy as np\n",
    "import matplotlib.pyplot as plt\n",
    "import seaborn as sns\n",
    "\n",
    "# estilo grafico\n",
    "plt.style.use('seaborn-darkgrid')\n",
    "\n",
    "# para ignorar los warnings\n",
    "import warnings\n",
    "warnings.filterwarnings('ignore')\n",
    "\n",
    "# importamos archivo auxiliar con funciones propias\n",
    "import function_tweet as func"
   ]
  },
  {
   "cell_type": "markdown",
   "metadata": {},
   "source": [
    "### ➤ Leemos el archivo y realizamos análisis exploratorio de las variables"
   ]
  },
  {
   "cell_type": "code",
   "execution_count": 2,
   "metadata": {},
   "outputs": [],
   "source": [
    "# creamos objeto que contiene la base de datos\n",
    "df = pd.read_csv('text_emotion.csv')"
   ]
  },
  {
   "cell_type": "code",
   "execution_count": 3,
   "metadata": {},
   "outputs": [
    {
     "data": {
      "text/html": [
       "<div>\n",
       "<style scoped>\n",
       "    .dataframe tbody tr th:only-of-type {\n",
       "        vertical-align: middle;\n",
       "    }\n",
       "\n",
       "    .dataframe tbody tr th {\n",
       "        vertical-align: top;\n",
       "    }\n",
       "\n",
       "    .dataframe thead th {\n",
       "        text-align: right;\n",
       "    }\n",
       "</style>\n",
       "<table border=\"1\" class=\"dataframe\">\n",
       "  <thead>\n",
       "    <tr style=\"text-align: right;\">\n",
       "      <th></th>\n",
       "      <th>tweet_id</th>\n",
       "      <th>sentiment</th>\n",
       "      <th>author</th>\n",
       "      <th>content</th>\n",
       "    </tr>\n",
       "  </thead>\n",
       "  <tbody>\n",
       "    <tr>\n",
       "      <th>0</th>\n",
       "      <td>1956967341</td>\n",
       "      <td>empty</td>\n",
       "      <td>xoshayzers</td>\n",
       "      <td>@tiffanylue i know  i was listenin to bad habi...</td>\n",
       "    </tr>\n",
       "    <tr>\n",
       "      <th>1</th>\n",
       "      <td>1956967666</td>\n",
       "      <td>sadness</td>\n",
       "      <td>wannamama</td>\n",
       "      <td>Layin n bed with a headache  ughhhh...waitin o...</td>\n",
       "    </tr>\n",
       "    <tr>\n",
       "      <th>2</th>\n",
       "      <td>1956967696</td>\n",
       "      <td>sadness</td>\n",
       "      <td>coolfunky</td>\n",
       "      <td>Funeral ceremony...gloomy friday...</td>\n",
       "    </tr>\n",
       "    <tr>\n",
       "      <th>3</th>\n",
       "      <td>1956967789</td>\n",
       "      <td>enthusiasm</td>\n",
       "      <td>czareaquino</td>\n",
       "      <td>wants to hang out with friends SOON!</td>\n",
       "    </tr>\n",
       "    <tr>\n",
       "      <th>4</th>\n",
       "      <td>1956968416</td>\n",
       "      <td>neutral</td>\n",
       "      <td>xkilljoyx</td>\n",
       "      <td>@dannycastillo We want to trade with someone w...</td>\n",
       "    </tr>\n",
       "  </tbody>\n",
       "</table>\n",
       "</div>"
      ],
      "text/plain": [
       "     tweet_id   sentiment       author  \\\n",
       "0  1956967341       empty   xoshayzers   \n",
       "1  1956967666     sadness    wannamama   \n",
       "2  1956967696     sadness    coolfunky   \n",
       "3  1956967789  enthusiasm  czareaquino   \n",
       "4  1956968416     neutral    xkilljoyx   \n",
       "\n",
       "                                             content  \n",
       "0  @tiffanylue i know  i was listenin to bad habi...  \n",
       "1  Layin n bed with a headache  ughhhh...waitin o...  \n",
       "2                Funeral ceremony...gloomy friday...  \n",
       "3               wants to hang out with friends SOON!  \n",
       "4  @dannycastillo We want to trade with someone w...  "
      ]
     },
     "execution_count": 3,
     "metadata": {},
     "output_type": "execute_result"
    }
   ],
   "source": [
    "# Exploramos la data con un head\n",
    "df.head()"
   ]
  },
  {
   "cell_type": "markdown",
   "metadata": {},
   "source": [
    "Podemos observar que la data contiene variables numericas y categóricas:\n",
    "\n",
    "* __tweet_id__ = Numero de identificación atribuído al tweet.\n",
    "* __sentiment__ = Sentimiento atribuído al tweet\n",
    "* __author__ = Nombre del autor del tweet\n",
    "* __content__ = Contenido del tweet."
   ]
  },
  {
   "cell_type": "code",
   "execution_count": 4,
   "metadata": {},
   "outputs": [
    {
     "data": {
      "text/plain": [
       "(40000, 4)"
      ]
     },
     "execution_count": 4,
     "metadata": {},
     "output_type": "execute_result"
    }
   ],
   "source": [
    "# dimensiones de la data\n",
    "df.shape"
   ]
  },
  {
   "cell_type": "code",
   "execution_count": 5,
   "metadata": {},
   "outputs": [
    {
     "name": "stdout",
     "output_type": "stream",
     "text": [
      "<class 'pandas.core.frame.DataFrame'>\n",
      "RangeIndex: 40000 entries, 0 to 39999\n",
      "Data columns (total 4 columns):\n",
      "tweet_id     40000 non-null int64\n",
      "sentiment    40000 non-null object\n",
      "author       40000 non-null object\n",
      "content      40000 non-null object\n",
      "dtypes: int64(1), object(3)\n",
      "memory usage: 1.2+ MB\n"
     ]
    }
   ],
   "source": [
    "# Aplicamos un info para ver si hay datos nulos y mas detalles de la data\n",
    "df.info()"
   ]
  },
  {
   "cell_type": "markdown",
   "metadata": {},
   "source": [
    "No se observan datos nulos, la variable __tweet_id__ es tipo __int__ (entero, numérica), mientras que __sentiment, author__ y __content__ son tipo __object__ (objeto, categóricas)."
   ]
  },
  {
   "cell_type": "markdown",
   "metadata": {},
   "source": [
    "### ➤ Identificación del Vector Objetivo"
   ]
  },
  {
   "cell_type": "markdown",
   "metadata": {},
   "source": [
    "El objetivo del estudio es alcanzar el mejor desempeño posible para __clasificar si un tweet es positivo o negativo__.\n",
    "En base a esto se ha determinado que el vector objetivo es la columna __'sentiment'__. Se le realizará una tabla de frecuencias y un grafico de barras"
   ]
  },
  {
   "cell_type": "code",
   "execution_count": 6,
   "metadata": {},
   "outputs": [
    {
     "data": {
      "text/plain": [
       "neutral       8638\n",
       "worry         8459\n",
       "happiness     5209\n",
       "sadness       5165\n",
       "love          3842\n",
       "surprise      2187\n",
       "fun           1776\n",
       "relief        1526\n",
       "hate          1323\n",
       "empty          827\n",
       "enthusiasm     759\n",
       "boredom        179\n",
       "anger          110\n",
       "Name: sentiment, dtype: int64"
      ]
     },
     "execution_count": 6,
     "metadata": {},
     "output_type": "execute_result"
    }
   ],
   "source": [
    "# Hacemos un value counts para ver la frecuencia de cada categoria de sentimiento\n",
    "df['sentiment'].value_counts()"
   ]
  },
  {
   "cell_type": "code",
   "execution_count": 7,
   "metadata": {},
   "outputs": [
    {
     "data": {
      "image/png": "[encoded data removed]",
      "text/plain": [
       "<Figure size 864x432 with 1 Axes>"
      ]
     },
     "metadata": {
      "needs_background": "light"
     },
     "output_type": "display_data"
    }
   ],
   "source": [
    "# Grafico de frecuencias\n",
    "freq = df['sentiment'].value_counts()\n",
    "plt.figure(figsize=(12,6))\n",
    "ax1 = sns.countplot(x='sentiment',data=df,order=freq.index)\n",
    "plt.title('Frecuencia de sentimiento asociado al tweet')\n",
    "ax1.set_xticklabels(ax1.get_xticklabels(),rotation=90,ha='right')\n",
    "plt.tight_layout()\n",
    "plt.show()"
   ]
  },
  {
   "cell_type": "markdown",
   "metadata": {},
   "source": [
    "Existe un desbalance evidente entre las clases a estudiar. Las variables __'neutral'__ y __'worry'__ presentan las frecuencias más altas en la grafica mientras que __'anger'__ y __'boredom'__ las más bajas. \n",
    "\n",
    "El objetivo del análisis es clasificar el sentimiento en positivo o negativo. Como se puede observar, aparecen sentimientos positivos, negativos y neutros. Entre los positivos se encuentran: __'happines','love','surprise','fun','relief'__ y __'enthusiasm'__ , mientras que en los negativos están: __'worry', 'sadness', 'hate', 'empty', 'boredom'__ y __'anger'__ . El sentimiento neutro corresponde a la variable __'neutral'__ .\n",
    "\n",
    "Tanto sentimientos positivos como negativos se componen de 6 categorias. Será necesario recodificar la variable para lograr balancear las clases y obtener mejores resultados.\n",
    "\n",
    "Posterior al preprocesamiento y recodificación de la data analizaremos los cambios en nuestro vector objetivo."
   ]
  },
  {
   "cell_type": "markdown",
   "metadata": {},
   "source": [
    "# 2. Preprocesamiento de la data\n",
    "\n",
    "Antes de aplicar algun modelo de clasificación es necesario preprocesar la data para obtener mejores resultados\n",
    "\n",
    "\n",
    "__Pasos a seguir__:\n",
    "\n",
    "* Borraremos las columnas que no son útiles para nuestro objetivo como 'tweet_id' y 'author'\n",
    "* Extraeremos los hashtag en una nueva columna llamada __'hashtags'__ \n",
    "* Limpiaremos los datos del atributo __'content'__ con la ayuda de expresiones regulares y crearemos la columna __'tweet_text'__\n",
    "* Tokenizaremos la data y la limpiaremos de stopwords en la columna __token_tweet__ \n",
    "* Lemantizamos los datos y crearemos una nueva columna __'lemmatize'__ \n",
    "* Finalmente volvemos a convertir los datos en texto para poder trabajar con ellos en la columna __'final_tweet'__\n",
    "\n",
    "### ➤  Borraremos las columnas que no son relevantes para nuestro análisis"
   ]
  },
  {
   "cell_type": "code",
   "execution_count": 8,
   "metadata": {},
   "outputs": [],
   "source": [
    "# realizaremos una copia de nuestro con las columnas 'tweet:id' y 'author' borradas\n",
    "df_copy = df.drop(['tweet_id', 'author'], axis = 1)"
   ]
  },
  {
   "cell_type": "code",
   "execution_count": 9,
   "metadata": {},
   "outputs": [
    {
     "data": {
      "text/html": [
       "<div>\n",
       "<style scoped>\n",
       "    .dataframe tbody tr th:only-of-type {\n",
       "        vertical-align: middle;\n",
       "    }\n",
       "\n",
       "    .dataframe tbody tr th {\n",
       "        vertical-align: top;\n",
       "    }\n",
       "\n",
       "    .dataframe thead th {\n",
       "        text-align: right;\n",
       "    }\n",
       "</style>\n",
       "<table border=\"1\" class=\"dataframe\">\n",
       "  <thead>\n",
       "    <tr style=\"text-align: right;\">\n",
       "      <th></th>\n",
       "      <th>sentiment</th>\n",
       "      <th>content</th>\n",
       "    </tr>\n",
       "  </thead>\n",
       "  <tbody>\n",
       "    <tr>\n",
       "      <th>12437</th>\n",
       "      <td>worry</td>\n",
       "      <td>Internet, you were so fast! And now you are so...</td>\n",
       "    </tr>\n",
       "  </tbody>\n",
       "</table>\n",
       "</div>"
      ],
      "text/plain": [
       "      sentiment                                            content\n",
       "12437     worry  Internet, you were so fast! And now you are so..."
      ]
     },
     "execution_count": 9,
     "metadata": {},
     "output_type": "execute_result"
    }
   ],
   "source": [
    "# comprobamos con un sample\n",
    "df_copy.sample()"
   ]
  },
  {
   "cell_type": "markdown",
   "metadata": {},
   "source": [
    "### ➤  Trabajaremos con las librerias: ntlk , re y string"
   ]
  },
  {
   "cell_type": "code",
   "execution_count": 10,
   "metadata": {},
   "outputs": [],
   "source": [
    "# importamos las librerías necesarias\n",
    "import nltk # para procesamiento de lenguaje natural\n",
    "from nltk.corpus import stopwords # para eliminar palabras de detención del texto\n",
    "from nltk.stem import  WordNetLemmatizer # para la lematización del texto\n",
    "from nltk.tokenize import word_tokenize# para tokenizar el texto\n",
    "from nltk.stem import PorterStemmer # para stemming del texto\n",
    "\n",
    "import re # para expresiones regulares\n",
    "import string # para cadenas de texto "
   ]
  },
  {
   "cell_type": "markdown",
   "metadata": {},
   "source": [
    "### ➤ Rescatamos los hashtag con nuestra función auxiliar: extract_hashtags"
   ]
  },
  {
   "cell_type": "code",
   "execution_count": 11,
   "metadata": {},
   "outputs": [
    {
     "data": {
      "text/html": [
       "<div>\n",
       "<style scoped>\n",
       "    .dataframe tbody tr th:only-of-type {\n",
       "        vertical-align: middle;\n",
       "    }\n",
       "\n",
       "    .dataframe tbody tr th {\n",
       "        vertical-align: top;\n",
       "    }\n",
       "\n",
       "    .dataframe thead th {\n",
       "        text-align: right;\n",
       "    }\n",
       "</style>\n",
       "<table border=\"1\" class=\"dataframe\">\n",
       "  <thead>\n",
       "    <tr style=\"text-align: right;\">\n",
       "      <th></th>\n",
       "      <th>sentiment</th>\n",
       "      <th>content</th>\n",
       "      <th>hashtags</th>\n",
       "    </tr>\n",
       "  </thead>\n",
       "  <tbody>\n",
       "    <tr>\n",
       "      <th>240</th>\n",
       "      <td>neutral</td>\n",
       "      <td>@Nymo would have been better, IMO, if it let y...</td>\n",
       "      <td>{}</td>\n",
       "    </tr>\n",
       "    <tr>\n",
       "      <th>241</th>\n",
       "      <td>neutral</td>\n",
       "      <td>#3wordsaftersex it never started...</td>\n",
       "      <td>{#3wordsaftersex}</td>\n",
       "    </tr>\n",
       "    <tr>\n",
       "      <th>242</th>\n",
       "      <td>sadness</td>\n",
       "      <td>sometimes i wish things could go back to the w...</td>\n",
       "      <td>{}</td>\n",
       "    </tr>\n",
       "    <tr>\n",
       "      <th>243</th>\n",
       "      <td>worry</td>\n",
       "      <td>I downloaded the new twitterfon update thinkin...</td>\n",
       "      <td>{}</td>\n",
       "    </tr>\n",
       "    <tr>\n",
       "      <th>244</th>\n",
       "      <td>empty</td>\n",
       "      <td>@tarng Trudy's off Burnet...the one up north t...</td>\n",
       "      <td>{}</td>\n",
       "    </tr>\n",
       "    <tr>\n",
       "      <th>245</th>\n",
       "      <td>sadness</td>\n",
       "      <td>@kateisbored I feel the same way, but I guess ...</td>\n",
       "      <td>{}</td>\n",
       "    </tr>\n",
       "    <tr>\n",
       "      <th>246</th>\n",
       "      <td>happiness</td>\n",
       "      <td>I Can`t do 30 minutes of Treadmill  but done 3...</td>\n",
       "      <td>{}</td>\n",
       "    </tr>\n",
       "    <tr>\n",
       "      <th>247</th>\n",
       "      <td>worry</td>\n",
       "      <td>i'm sooooooooooooo confused</td>\n",
       "      <td>{}</td>\n",
       "    </tr>\n",
       "    <tr>\n",
       "      <th>248</th>\n",
       "      <td>neutral</td>\n",
       "      <td>With friends like VaikO,Nedumaran, LTTE didn't...</td>\n",
       "      <td>{}</td>\n",
       "    </tr>\n",
       "    <tr>\n",
       "      <th>249</th>\n",
       "      <td>worry</td>\n",
       "      <td>Work day 7 of 7,</td>\n",
       "      <td>{}</td>\n",
       "    </tr>\n",
       "  </tbody>\n",
       "</table>\n",
       "</div>"
      ],
      "text/plain": [
       "     sentiment                                            content  \\\n",
       "240    neutral  @Nymo would have been better, IMO, if it let y...   \n",
       "241    neutral                #3wordsaftersex it never started...   \n",
       "242    sadness  sometimes i wish things could go back to the w...   \n",
       "243      worry  I downloaded the new twitterfon update thinkin...   \n",
       "244      empty  @tarng Trudy's off Burnet...the one up north t...   \n",
       "245    sadness  @kateisbored I feel the same way, but I guess ...   \n",
       "246  happiness  I Can`t do 30 minutes of Treadmill  but done 3...   \n",
       "247      worry                        i'm sooooooooooooo confused   \n",
       "248    neutral  With friends like VaikO,Nedumaran, LTTE didn't...   \n",
       "249      worry                                   Work day 7 of 7,   \n",
       "\n",
       "              hashtags  \n",
       "240                 {}  \n",
       "241  {#3wordsaftersex}  \n",
       "242                 {}  \n",
       "243                 {}  \n",
       "244                 {}  \n",
       "245                 {}  \n",
       "246                 {}  \n",
       "247                 {}  \n",
       "248                 {}  \n",
       "249                 {}  "
      ]
     },
     "execution_count": 11,
     "metadata": {},
     "output_type": "execute_result"
    }
   ],
   "source": [
    "# creamos una nueva columna 'hashtags' con los datos de la columna 'content' procesados en la funcion extract_hashtags\n",
    "df_copy['hashtags'] = df_copy.apply(lambda row: func.extract_hashtags(row['content']), axis=1)\n",
    "df_copy[240:250] # visualizamos alguna fila que contenga hashtag para comprobar"
   ]
  },
  {
   "cell_type": "markdown",
   "metadata": {},
   "source": [
    "### ➤ Limpiamos un poco la data de expresiones regulares con nuestra función auxiliar: regular_clean_tweet"
   ]
  },
  {
   "cell_type": "code",
   "execution_count": 12,
   "metadata": {},
   "outputs": [
    {
     "data": {
      "text/html": [
       "<div>\n",
       "<style scoped>\n",
       "    .dataframe tbody tr th:only-of-type {\n",
       "        vertical-align: middle;\n",
       "    }\n",
       "\n",
       "    .dataframe tbody tr th {\n",
       "        vertical-align: top;\n",
       "    }\n",
       "\n",
       "    .dataframe thead th {\n",
       "        text-align: right;\n",
       "    }\n",
       "</style>\n",
       "<table border=\"1\" class=\"dataframe\">\n",
       "  <thead>\n",
       "    <tr style=\"text-align: right;\">\n",
       "      <th></th>\n",
       "      <th>sentiment</th>\n",
       "      <th>content</th>\n",
       "      <th>hashtags</th>\n",
       "      <th>tweet_text</th>\n",
       "    </tr>\n",
       "  </thead>\n",
       "  <tbody>\n",
       "    <tr>\n",
       "      <th>0</th>\n",
       "      <td>empty</td>\n",
       "      <td>@tiffanylue i know  i was listenin to bad habi...</td>\n",
       "      <td>{}</td>\n",
       "      <td>i know i was listenin to bad habit earlier and...</td>\n",
       "    </tr>\n",
       "    <tr>\n",
       "      <th>1</th>\n",
       "      <td>sadness</td>\n",
       "      <td>Layin n bed with a headache  ughhhh...waitin o...</td>\n",
       "      <td>{}</td>\n",
       "      <td>layin n bed with a headache ughh waitin on you...</td>\n",
       "    </tr>\n",
       "    <tr>\n",
       "      <th>2</th>\n",
       "      <td>sadness</td>\n",
       "      <td>Funeral ceremony...gloomy friday...</td>\n",
       "      <td>{}</td>\n",
       "      <td>funeral ceremony gloomy friday</td>\n",
       "    </tr>\n",
       "    <tr>\n",
       "      <th>3</th>\n",
       "      <td>enthusiasm</td>\n",
       "      <td>wants to hang out with friends SOON!</td>\n",
       "      <td>{}</td>\n",
       "      <td>wants to hang out with friends soon</td>\n",
       "    </tr>\n",
       "    <tr>\n",
       "      <th>4</th>\n",
       "      <td>neutral</td>\n",
       "      <td>@dannycastillo We want to trade with someone w...</td>\n",
       "      <td>{}</td>\n",
       "      <td>we want to trade with someone who has houston ...</td>\n",
       "    </tr>\n",
       "    <tr>\n",
       "      <th>5</th>\n",
       "      <td>worry</td>\n",
       "      <td>Re-pinging @ghostridah14: why didn't you go to...</td>\n",
       "      <td>{}</td>\n",
       "      <td>re pinging why didn t you go to prom bc my bf ...</td>\n",
       "    </tr>\n",
       "    <tr>\n",
       "      <th>6</th>\n",
       "      <td>sadness</td>\n",
       "      <td>I should be sleep, but im not! thinking about ...</td>\n",
       "      <td>{}</td>\n",
       "      <td>i should be sleep but im not thinking about an...</td>\n",
       "    </tr>\n",
       "    <tr>\n",
       "      <th>7</th>\n",
       "      <td>worry</td>\n",
       "      <td>Hmmm. http://www.djhero.com/ is down</td>\n",
       "      <td>{}</td>\n",
       "      <td>hmm is down</td>\n",
       "    </tr>\n",
       "    <tr>\n",
       "      <th>8</th>\n",
       "      <td>sadness</td>\n",
       "      <td>@charviray Charlene my love. I miss you</td>\n",
       "      <td>{}</td>\n",
       "      <td>charlene my love i miss you</td>\n",
       "    </tr>\n",
       "    <tr>\n",
       "      <th>9</th>\n",
       "      <td>sadness</td>\n",
       "      <td>@kelcouch I'm sorry  at least it's Friday?</td>\n",
       "      <td>{}</td>\n",
       "      <td>i m sorry at least it s friday</td>\n",
       "    </tr>\n",
       "  </tbody>\n",
       "</table>\n",
       "</div>"
      ],
      "text/plain": [
       "    sentiment                                            content hashtags  \\\n",
       "0       empty  @tiffanylue i know  i was listenin to bad habi...       {}   \n",
       "1     sadness  Layin n bed with a headache  ughhhh...waitin o...       {}   \n",
       "2     sadness                Funeral ceremony...gloomy friday...       {}   \n",
       "3  enthusiasm               wants to hang out with friends SOON!       {}   \n",
       "4     neutral  @dannycastillo We want to trade with someone w...       {}   \n",
       "5       worry  Re-pinging @ghostridah14: why didn't you go to...       {}   \n",
       "6     sadness  I should be sleep, but im not! thinking about ...       {}   \n",
       "7       worry               Hmmm. http://www.djhero.com/ is down       {}   \n",
       "8     sadness            @charviray Charlene my love. I miss you       {}   \n",
       "9     sadness         @kelcouch I'm sorry  at least it's Friday?       {}   \n",
       "\n",
       "                                          tweet_text  \n",
       "0  i know i was listenin to bad habit earlier and...  \n",
       "1  layin n bed with a headache ughh waitin on you...  \n",
       "2                    funeral ceremony gloomy friday   \n",
       "3               wants to hang out with friends soon   \n",
       "4  we want to trade with someone who has houston ...  \n",
       "5  re pinging why didn t you go to prom bc my bf ...  \n",
       "6  i should be sleep but im not thinking about an...  \n",
       "7                                        hmm is down  \n",
       "8                        charlene my love i miss you  \n",
       "9                    i m sorry at least it s friday   "
      ]
     },
     "execution_count": 12,
     "metadata": {},
     "output_type": "execute_result"
    }
   ],
   "source": [
    "# creamos una nueva columna 'tweet_text' con los ultimos datos procesados en la funcion regular_clean_tweet\n",
    "df_copy['tweet_text'] = df_copy['content'].apply(func.regular_clean_tweet)\n",
    "df_copy.head(10)"
   ]
  },
  {
   "cell_type": "markdown",
   "metadata": {},
   "source": [
    "### ➤ Tokenizamos y limpiamos de stopwords los atributos con nuestra función auxiliar: token_text\n"
   ]
  },
  {
   "cell_type": "code",
   "execution_count": 13,
   "metadata": {},
   "outputs": [
    {
     "data": {
      "text/html": [
       "<div>\n",
       "<style scoped>\n",
       "    .dataframe tbody tr th:only-of-type {\n",
       "        vertical-align: middle;\n",
       "    }\n",
       "\n",
       "    .dataframe tbody tr th {\n",
       "        vertical-align: top;\n",
       "    }\n",
       "\n",
       "    .dataframe thead th {\n",
       "        text-align: right;\n",
       "    }\n",
       "</style>\n",
       "<table border=\"1\" class=\"dataframe\">\n",
       "  <thead>\n",
       "    <tr style=\"text-align: right;\">\n",
       "      <th></th>\n",
       "      <th>sentiment</th>\n",
       "      <th>content</th>\n",
       "      <th>hashtags</th>\n",
       "      <th>tweet_text</th>\n",
       "      <th>token_tweet</th>\n",
       "    </tr>\n",
       "  </thead>\n",
       "  <tbody>\n",
       "    <tr>\n",
       "      <th>0</th>\n",
       "      <td>empty</td>\n",
       "      <td>@tiffanylue i know  i was listenin to bad habi...</td>\n",
       "      <td>{}</td>\n",
       "      <td>i know i was listenin to bad habit earlier and...</td>\n",
       "      <td>[know, listenin, bad, habit, earlier, started,...</td>\n",
       "    </tr>\n",
       "    <tr>\n",
       "      <th>1</th>\n",
       "      <td>sadness</td>\n",
       "      <td>Layin n bed with a headache  ughhhh...waitin o...</td>\n",
       "      <td>{}</td>\n",
       "      <td>layin n bed with a headache ughh waitin on you...</td>\n",
       "      <td>[layin, n, bed, headache, ughh, waitin, call]</td>\n",
       "    </tr>\n",
       "    <tr>\n",
       "      <th>2</th>\n",
       "      <td>sadness</td>\n",
       "      <td>Funeral ceremony...gloomy friday...</td>\n",
       "      <td>{}</td>\n",
       "      <td>funeral ceremony gloomy friday</td>\n",
       "      <td>[funeral, ceremony, gloomy, friday]</td>\n",
       "    </tr>\n",
       "    <tr>\n",
       "      <th>3</th>\n",
       "      <td>enthusiasm</td>\n",
       "      <td>wants to hang out with friends SOON!</td>\n",
       "      <td>{}</td>\n",
       "      <td>wants to hang out with friends soon</td>\n",
       "      <td>[wants, hang, friends, soon]</td>\n",
       "    </tr>\n",
       "    <tr>\n",
       "      <th>4</th>\n",
       "      <td>neutral</td>\n",
       "      <td>@dannycastillo We want to trade with someone w...</td>\n",
       "      <td>{}</td>\n",
       "      <td>we want to trade with someone who has houston ...</td>\n",
       "      <td>[want, trade, someone, houston, tickets, one]</td>\n",
       "    </tr>\n",
       "    <tr>\n",
       "      <th>5</th>\n",
       "      <td>worry</td>\n",
       "      <td>Re-pinging @ghostridah14: why didn't you go to...</td>\n",
       "      <td>{}</td>\n",
       "      <td>re pinging why didn t you go to prom bc my bf ...</td>\n",
       "      <td>[pinging, go, prom, bc, bf, like, friends]</td>\n",
       "    </tr>\n",
       "    <tr>\n",
       "      <th>6</th>\n",
       "      <td>sadness</td>\n",
       "      <td>I should be sleep, but im not! thinking about ...</td>\n",
       "      <td>{}</td>\n",
       "      <td>i should be sleep but im not thinking about an...</td>\n",
       "      <td>[sleep, im, thinking, old, friend, want, marri...</td>\n",
       "    </tr>\n",
       "    <tr>\n",
       "      <th>7</th>\n",
       "      <td>worry</td>\n",
       "      <td>Hmmm. http://www.djhero.com/ is down</td>\n",
       "      <td>{}</td>\n",
       "      <td>hmm is down</td>\n",
       "      <td>[hmm]</td>\n",
       "    </tr>\n",
       "    <tr>\n",
       "      <th>8</th>\n",
       "      <td>sadness</td>\n",
       "      <td>@charviray Charlene my love. I miss you</td>\n",
       "      <td>{}</td>\n",
       "      <td>charlene my love i miss you</td>\n",
       "      <td>[charlene, love, miss]</td>\n",
       "    </tr>\n",
       "    <tr>\n",
       "      <th>9</th>\n",
       "      <td>sadness</td>\n",
       "      <td>@kelcouch I'm sorry  at least it's Friday?</td>\n",
       "      <td>{}</td>\n",
       "      <td>i m sorry at least it s friday</td>\n",
       "      <td>[sorry, least, friday]</td>\n",
       "    </tr>\n",
       "  </tbody>\n",
       "</table>\n",
       "</div>"
      ],
      "text/plain": [
       "    sentiment                                            content hashtags  \\\n",
       "0       empty  @tiffanylue i know  i was listenin to bad habi...       {}   \n",
       "1     sadness  Layin n bed with a headache  ughhhh...waitin o...       {}   \n",
       "2     sadness                Funeral ceremony...gloomy friday...       {}   \n",
       "3  enthusiasm               wants to hang out with friends SOON!       {}   \n",
       "4     neutral  @dannycastillo We want to trade with someone w...       {}   \n",
       "5       worry  Re-pinging @ghostridah14: why didn't you go to...       {}   \n",
       "6     sadness  I should be sleep, but im not! thinking about ...       {}   \n",
       "7       worry               Hmmm. http://www.djhero.com/ is down       {}   \n",
       "8     sadness            @charviray Charlene my love. I miss you       {}   \n",
       "9     sadness         @kelcouch I'm sorry  at least it's Friday?       {}   \n",
       "\n",
       "                                          tweet_text  \\\n",
       "0  i know i was listenin to bad habit earlier and...   \n",
       "1  layin n bed with a headache ughh waitin on you...   \n",
       "2                    funeral ceremony gloomy friday    \n",
       "3               wants to hang out with friends soon    \n",
       "4  we want to trade with someone who has houston ...   \n",
       "5  re pinging why didn t you go to prom bc my bf ...   \n",
       "6  i should be sleep but im not thinking about an...   \n",
       "7                                        hmm is down   \n",
       "8                        charlene my love i miss you   \n",
       "9                    i m sorry at least it s friday    \n",
       "\n",
       "                                         token_tweet  \n",
       "0  [know, listenin, bad, habit, earlier, started,...  \n",
       "1      [layin, n, bed, headache, ughh, waitin, call]  \n",
       "2                [funeral, ceremony, gloomy, friday]  \n",
       "3                       [wants, hang, friends, soon]  \n",
       "4      [want, trade, someone, houston, tickets, one]  \n",
       "5         [pinging, go, prom, bc, bf, like, friends]  \n",
       "6  [sleep, im, thinking, old, friend, want, marri...  \n",
       "7                                              [hmm]  \n",
       "8                             [charlene, love, miss]  \n",
       "9                             [sorry, least, friday]  "
      ]
     },
     "execution_count": 13,
     "metadata": {},
     "output_type": "execute_result"
    }
   ],
   "source": [
    "# creamos una nueva columna 'token_tweet' con los ultimos datos procesados en la funcion token_text\n",
    "df_copy['token_tweet'] = df_copy.apply(lambda row: func.token_text(row['tweet_text']), axis=1)\n",
    "df_copy.head(10)"
   ]
  },
  {
   "cell_type": "markdown",
   "metadata": {},
   "source": [
    "### ➤ Refinamos los atributos a capturar mediante el proceso de lemantización con la función auxiliar: lemmatizer"
   ]
  },
  {
   "cell_type": "code",
   "execution_count": 14,
   "metadata": {
    "scrolled": true
   },
   "outputs": [
    {
     "data": {
      "text/html": [
       "<div>\n",
       "<style scoped>\n",
       "    .dataframe tbody tr th:only-of-type {\n",
       "        vertical-align: middle;\n",
       "    }\n",
       "\n",
       "    .dataframe tbody tr th {\n",
       "        vertical-align: top;\n",
       "    }\n",
       "\n",
       "    .dataframe thead th {\n",
       "        text-align: right;\n",
       "    }\n",
       "</style>\n",
       "<table border=\"1\" class=\"dataframe\">\n",
       "  <thead>\n",
       "    <tr style=\"text-align: right;\">\n",
       "      <th></th>\n",
       "      <th>sentiment</th>\n",
       "      <th>content</th>\n",
       "      <th>hashtags</th>\n",
       "      <th>tweet_text</th>\n",
       "      <th>token_tweet</th>\n",
       "      <th>lemmatize</th>\n",
       "    </tr>\n",
       "  </thead>\n",
       "  <tbody>\n",
       "    <tr>\n",
       "      <th>0</th>\n",
       "      <td>empty</td>\n",
       "      <td>@tiffanylue i know  i was listenin to bad habi...</td>\n",
       "      <td>{}</td>\n",
       "      <td>i know i was listenin to bad habit earlier and...</td>\n",
       "      <td>[know, listenin, bad, habit, earlier, started,...</td>\n",
       "      <td>[know, listenin, bad, habit, earlier, start, f...</td>\n",
       "    </tr>\n",
       "    <tr>\n",
       "      <th>1</th>\n",
       "      <td>sadness</td>\n",
       "      <td>Layin n bed with a headache  ughhhh...waitin o...</td>\n",
       "      <td>{}</td>\n",
       "      <td>layin n bed with a headache ughh waitin on you...</td>\n",
       "      <td>[layin, n, bed, headache, ughh, waitin, call]</td>\n",
       "      <td>[layin, n, bed, headache, ughh, waitin, call]</td>\n",
       "    </tr>\n",
       "    <tr>\n",
       "      <th>2</th>\n",
       "      <td>sadness</td>\n",
       "      <td>Funeral ceremony...gloomy friday...</td>\n",
       "      <td>{}</td>\n",
       "      <td>funeral ceremony gloomy friday</td>\n",
       "      <td>[funeral, ceremony, gloomy, friday]</td>\n",
       "      <td>[funeral, ceremony, gloomy, friday]</td>\n",
       "    </tr>\n",
       "    <tr>\n",
       "      <th>3</th>\n",
       "      <td>enthusiasm</td>\n",
       "      <td>wants to hang out with friends SOON!</td>\n",
       "      <td>{}</td>\n",
       "      <td>wants to hang out with friends soon</td>\n",
       "      <td>[wants, hang, friends, soon]</td>\n",
       "      <td>[want, hang, friends, soon]</td>\n",
       "    </tr>\n",
       "    <tr>\n",
       "      <th>4</th>\n",
       "      <td>neutral</td>\n",
       "      <td>@dannycastillo We want to trade with someone w...</td>\n",
       "      <td>{}</td>\n",
       "      <td>we want to trade with someone who has houston ...</td>\n",
       "      <td>[want, trade, someone, houston, tickets, one]</td>\n",
       "      <td>[want, trade, someone, houston, ticket, one]</td>\n",
       "    </tr>\n",
       "    <tr>\n",
       "      <th>5</th>\n",
       "      <td>worry</td>\n",
       "      <td>Re-pinging @ghostridah14: why didn't you go to...</td>\n",
       "      <td>{}</td>\n",
       "      <td>re pinging why didn t you go to prom bc my bf ...</td>\n",
       "      <td>[pinging, go, prom, bc, bf, like, friends]</td>\n",
       "      <td>[ping, go, prom, bc, bf, like, friends]</td>\n",
       "    </tr>\n",
       "    <tr>\n",
       "      <th>6</th>\n",
       "      <td>sadness</td>\n",
       "      <td>I should be sleep, but im not! thinking about ...</td>\n",
       "      <td>{}</td>\n",
       "      <td>i should be sleep but im not thinking about an...</td>\n",
       "      <td>[sleep, im, thinking, old, friend, want, marri...</td>\n",
       "      <td>[sleep, im, think, old, friend, want, marry, d...</td>\n",
       "    </tr>\n",
       "    <tr>\n",
       "      <th>7</th>\n",
       "      <td>worry</td>\n",
       "      <td>Hmmm. http://www.djhero.com/ is down</td>\n",
       "      <td>{}</td>\n",
       "      <td>hmm is down</td>\n",
       "      <td>[hmm]</td>\n",
       "      <td>[hmm]</td>\n",
       "    </tr>\n",
       "    <tr>\n",
       "      <th>8</th>\n",
       "      <td>sadness</td>\n",
       "      <td>@charviray Charlene my love. I miss you</td>\n",
       "      <td>{}</td>\n",
       "      <td>charlene my love i miss you</td>\n",
       "      <td>[charlene, love, miss]</td>\n",
       "      <td>[charlene, love, miss]</td>\n",
       "    </tr>\n",
       "    <tr>\n",
       "      <th>9</th>\n",
       "      <td>sadness</td>\n",
       "      <td>@kelcouch I'm sorry  at least it's Friday?</td>\n",
       "      <td>{}</td>\n",
       "      <td>i m sorry at least it s friday</td>\n",
       "      <td>[sorry, least, friday]</td>\n",
       "      <td>[sorry, least, friday]</td>\n",
       "    </tr>\n",
       "  </tbody>\n",
       "</table>\n",
       "</div>"
      ],
      "text/plain": [
       "    sentiment                                            content hashtags  \\\n",
       "0       empty  @tiffanylue i know  i was listenin to bad habi...       {}   \n",
       "1     sadness  Layin n bed with a headache  ughhhh...waitin o...       {}   \n",
       "2     sadness                Funeral ceremony...gloomy friday...       {}   \n",
       "3  enthusiasm               wants to hang out with friends SOON!       {}   \n",
       "4     neutral  @dannycastillo We want to trade with someone w...       {}   \n",
       "5       worry  Re-pinging @ghostridah14: why didn't you go to...       {}   \n",
       "6     sadness  I should be sleep, but im not! thinking about ...       {}   \n",
       "7       worry               Hmmm. http://www.djhero.com/ is down       {}   \n",
       "8     sadness            @charviray Charlene my love. I miss you       {}   \n",
       "9     sadness         @kelcouch I'm sorry  at least it's Friday?       {}   \n",
       "\n",
       "                                          tweet_text  \\\n",
       "0  i know i was listenin to bad habit earlier and...   \n",
       "1  layin n bed with a headache ughh waitin on you...   \n",
       "2                    funeral ceremony gloomy friday    \n",
       "3               wants to hang out with friends soon    \n",
       "4  we want to trade with someone who has houston ...   \n",
       "5  re pinging why didn t you go to prom bc my bf ...   \n",
       "6  i should be sleep but im not thinking about an...   \n",
       "7                                        hmm is down   \n",
       "8                        charlene my love i miss you   \n",
       "9                    i m sorry at least it s friday    \n",
       "\n",
       "                                         token_tweet  \\\n",
       "0  [know, listenin, bad, habit, earlier, started,...   \n",
       "1      [layin, n, bed, headache, ughh, waitin, call]   \n",
       "2                [funeral, ceremony, gloomy, friday]   \n",
       "3                       [wants, hang, friends, soon]   \n",
       "4      [want, trade, someone, houston, tickets, one]   \n",
       "5         [pinging, go, prom, bc, bf, like, friends]   \n",
       "6  [sleep, im, thinking, old, friend, want, marri...   \n",
       "7                                              [hmm]   \n",
       "8                             [charlene, love, miss]   \n",
       "9                             [sorry, least, friday]   \n",
       "\n",
       "                                           lemmatize  \n",
       "0  [know, listenin, bad, habit, earlier, start, f...  \n",
       "1      [layin, n, bed, headache, ughh, waitin, call]  \n",
       "2                [funeral, ceremony, gloomy, friday]  \n",
       "3                        [want, hang, friends, soon]  \n",
       "4       [want, trade, someone, houston, ticket, one]  \n",
       "5            [ping, go, prom, bc, bf, like, friends]  \n",
       "6  [sleep, im, think, old, friend, want, marry, d...  \n",
       "7                                              [hmm]  \n",
       "8                             [charlene, love, miss]  \n",
       "9                             [sorry, least, friday]  "
      ]
     },
     "execution_count": 14,
     "metadata": {},
     "output_type": "execute_result"
    }
   ],
   "source": [
    "# creamos una nueva columna 'lemmatize' con los ultimos datos procesados en la funcion lemmatizer\n",
    "df_copy['lemmatize']= df_copy.apply(lambda row: func.lemmatizer(row['token_tweet']), axis=1)\n",
    "df_copy.head(10)"
   ]
  },
  {
   "cell_type": "markdown",
   "metadata": {},
   "source": [
    "### ➤ Seguimos refinando los atributos mediante el proceso de stemming con la función auxiliar: stemming"
   ]
  },
  {
   "cell_type": "code",
   "execution_count": 15,
   "metadata": {},
   "outputs": [
    {
     "data": {
      "text/html": [
       "<div>\n",
       "<style scoped>\n",
       "    .dataframe tbody tr th:only-of-type {\n",
       "        vertical-align: middle;\n",
       "    }\n",
       "\n",
       "    .dataframe tbody tr th {\n",
       "        vertical-align: top;\n",
       "    }\n",
       "\n",
       "    .dataframe thead th {\n",
       "        text-align: right;\n",
       "    }\n",
       "</style>\n",
       "<table border=\"1\" class=\"dataframe\">\n",
       "  <thead>\n",
       "    <tr style=\"text-align: right;\">\n",
       "      <th></th>\n",
       "      <th>sentiment</th>\n",
       "      <th>content</th>\n",
       "      <th>hashtags</th>\n",
       "      <th>tweet_text</th>\n",
       "      <th>token_tweet</th>\n",
       "      <th>lemmatize</th>\n",
       "      <th>stemming</th>\n",
       "    </tr>\n",
       "  </thead>\n",
       "  <tbody>\n",
       "    <tr>\n",
       "      <th>0</th>\n",
       "      <td>empty</td>\n",
       "      <td>@tiffanylue i know  i was listenin to bad habi...</td>\n",
       "      <td>{}</td>\n",
       "      <td>i know i was listenin to bad habit earlier and...</td>\n",
       "      <td>[know, listenin, bad, habit, earlier, started,...</td>\n",
       "      <td>[know, listenin, bad, habit, earlier, start, f...</td>\n",
       "      <td>[know, listenin, bad, habit, earlier, start, f...</td>\n",
       "    </tr>\n",
       "    <tr>\n",
       "      <th>1</th>\n",
       "      <td>sadness</td>\n",
       "      <td>Layin n bed with a headache  ughhhh...waitin o...</td>\n",
       "      <td>{}</td>\n",
       "      <td>layin n bed with a headache ughh waitin on you...</td>\n",
       "      <td>[layin, n, bed, headache, ughh, waitin, call]</td>\n",
       "      <td>[layin, n, bed, headache, ughh, waitin, call]</td>\n",
       "      <td>[layin, n, bed, headach, ughh, waitin, call]</td>\n",
       "    </tr>\n",
       "    <tr>\n",
       "      <th>2</th>\n",
       "      <td>sadness</td>\n",
       "      <td>Funeral ceremony...gloomy friday...</td>\n",
       "      <td>{}</td>\n",
       "      <td>funeral ceremony gloomy friday</td>\n",
       "      <td>[funeral, ceremony, gloomy, friday]</td>\n",
       "      <td>[funeral, ceremony, gloomy, friday]</td>\n",
       "      <td>[funer, ceremoni, gloomi, friday]</td>\n",
       "    </tr>\n",
       "    <tr>\n",
       "      <th>3</th>\n",
       "      <td>enthusiasm</td>\n",
       "      <td>wants to hang out with friends SOON!</td>\n",
       "      <td>{}</td>\n",
       "      <td>wants to hang out with friends soon</td>\n",
       "      <td>[wants, hang, friends, soon]</td>\n",
       "      <td>[want, hang, friends, soon]</td>\n",
       "      <td>[want, hang, friend, soon]</td>\n",
       "    </tr>\n",
       "    <tr>\n",
       "      <th>4</th>\n",
       "      <td>neutral</td>\n",
       "      <td>@dannycastillo We want to trade with someone w...</td>\n",
       "      <td>{}</td>\n",
       "      <td>we want to trade with someone who has houston ...</td>\n",
       "      <td>[want, trade, someone, houston, tickets, one]</td>\n",
       "      <td>[want, trade, someone, houston, ticket, one]</td>\n",
       "      <td>[want, trade, someon, houston, ticket, one]</td>\n",
       "    </tr>\n",
       "    <tr>\n",
       "      <th>5</th>\n",
       "      <td>worry</td>\n",
       "      <td>Re-pinging @ghostridah14: why didn't you go to...</td>\n",
       "      <td>{}</td>\n",
       "      <td>re pinging why didn t you go to prom bc my bf ...</td>\n",
       "      <td>[pinging, go, prom, bc, bf, like, friends]</td>\n",
       "      <td>[ping, go, prom, bc, bf, like, friends]</td>\n",
       "      <td>[ping, go, prom, bc, bf, like, friend]</td>\n",
       "    </tr>\n",
       "    <tr>\n",
       "      <th>6</th>\n",
       "      <td>sadness</td>\n",
       "      <td>I should be sleep, but im not! thinking about ...</td>\n",
       "      <td>{}</td>\n",
       "      <td>i should be sleep but im not thinking about an...</td>\n",
       "      <td>[sleep, im, thinking, old, friend, want, marri...</td>\n",
       "      <td>[sleep, im, think, old, friend, want, marry, d...</td>\n",
       "      <td>[sleep, im, think, old, friend, want, marri, d...</td>\n",
       "    </tr>\n",
       "    <tr>\n",
       "      <th>7</th>\n",
       "      <td>worry</td>\n",
       "      <td>Hmmm. http://www.djhero.com/ is down</td>\n",
       "      <td>{}</td>\n",
       "      <td>hmm is down</td>\n",
       "      <td>[hmm]</td>\n",
       "      <td>[hmm]</td>\n",
       "      <td>[hmm]</td>\n",
       "    </tr>\n",
       "    <tr>\n",
       "      <th>8</th>\n",
       "      <td>sadness</td>\n",
       "      <td>@charviray Charlene my love. I miss you</td>\n",
       "      <td>{}</td>\n",
       "      <td>charlene my love i miss you</td>\n",
       "      <td>[charlene, love, miss]</td>\n",
       "      <td>[charlene, love, miss]</td>\n",
       "      <td>[charlen, love, miss]</td>\n",
       "    </tr>\n",
       "    <tr>\n",
       "      <th>9</th>\n",
       "      <td>sadness</td>\n",
       "      <td>@kelcouch I'm sorry  at least it's Friday?</td>\n",
       "      <td>{}</td>\n",
       "      <td>i m sorry at least it s friday</td>\n",
       "      <td>[sorry, least, friday]</td>\n",
       "      <td>[sorry, least, friday]</td>\n",
       "      <td>[sorri, least, friday]</td>\n",
       "    </tr>\n",
       "  </tbody>\n",
       "</table>\n",
       "</div>"
      ],
      "text/plain": [
       "    sentiment                                            content hashtags  \\\n",
       "0       empty  @tiffanylue i know  i was listenin to bad habi...       {}   \n",
       "1     sadness  Layin n bed with a headache  ughhhh...waitin o...       {}   \n",
       "2     sadness                Funeral ceremony...gloomy friday...       {}   \n",
       "3  enthusiasm               wants to hang out with friends SOON!       {}   \n",
       "4     neutral  @dannycastillo We want to trade with someone w...       {}   \n",
       "5       worry  Re-pinging @ghostridah14: why didn't you go to...       {}   \n",
       "6     sadness  I should be sleep, but im not! thinking about ...       {}   \n",
       "7       worry               Hmmm. http://www.djhero.com/ is down       {}   \n",
       "8     sadness            @charviray Charlene my love. I miss you       {}   \n",
       "9     sadness         @kelcouch I'm sorry  at least it's Friday?       {}   \n",
       "\n",
       "                                          tweet_text  \\\n",
       "0  i know i was listenin to bad habit earlier and...   \n",
       "1  layin n bed with a headache ughh waitin on you...   \n",
       "2                    funeral ceremony gloomy friday    \n",
       "3               wants to hang out with friends soon    \n",
       "4  we want to trade with someone who has houston ...   \n",
       "5  re pinging why didn t you go to prom bc my bf ...   \n",
       "6  i should be sleep but im not thinking about an...   \n",
       "7                                        hmm is down   \n",
       "8                        charlene my love i miss you   \n",
       "9                    i m sorry at least it s friday    \n",
       "\n",
       "                                         token_tweet  \\\n",
       "0  [know, listenin, bad, habit, earlier, started,...   \n",
       "1      [layin, n, bed, headache, ughh, waitin, call]   \n",
       "2                [funeral, ceremony, gloomy, friday]   \n",
       "3                       [wants, hang, friends, soon]   \n",
       "4      [want, trade, someone, houston, tickets, one]   \n",
       "5         [pinging, go, prom, bc, bf, like, friends]   \n",
       "6  [sleep, im, thinking, old, friend, want, marri...   \n",
       "7                                              [hmm]   \n",
       "8                             [charlene, love, miss]   \n",
       "9                             [sorry, least, friday]   \n",
       "\n",
       "                                           lemmatize  \\\n",
       "0  [know, listenin, bad, habit, earlier, start, f...   \n",
       "1      [layin, n, bed, headache, ughh, waitin, call]   \n",
       "2                [funeral, ceremony, gloomy, friday]   \n",
       "3                        [want, hang, friends, soon]   \n",
       "4       [want, trade, someone, houston, ticket, one]   \n",
       "5            [ping, go, prom, bc, bf, like, friends]   \n",
       "6  [sleep, im, think, old, friend, want, marry, d...   \n",
       "7                                              [hmm]   \n",
       "8                             [charlene, love, miss]   \n",
       "9                             [sorry, least, friday]   \n",
       "\n",
       "                                            stemming  \n",
       "0  [know, listenin, bad, habit, earlier, start, f...  \n",
       "1       [layin, n, bed, headach, ughh, waitin, call]  \n",
       "2                  [funer, ceremoni, gloomi, friday]  \n",
       "3                         [want, hang, friend, soon]  \n",
       "4        [want, trade, someon, houston, ticket, one]  \n",
       "5             [ping, go, prom, bc, bf, like, friend]  \n",
       "6  [sleep, im, think, old, friend, want, marri, d...  \n",
       "7                                              [hmm]  \n",
       "8                              [charlen, love, miss]  \n",
       "9                             [sorri, least, friday]  "
      ]
     },
     "execution_count": 15,
     "metadata": {},
     "output_type": "execute_result"
    }
   ],
   "source": [
    "# creamos una nueva columna 'stemming' con los ultimos datos procesados en la funcion stemming\n",
    "df_copy['stemming']= df_copy.apply(lambda row: func.stemming(row['lemmatize']), axis=1)\n",
    "df_copy.head(10)"
   ]
  },
  {
   "cell_type": "markdown",
   "metadata": {},
   "source": [
    "### ➤ Convertimos las listas de tokens en texto para poder trabajar sobre ellas con la función auxiliar: str_word"
   ]
  },
  {
   "cell_type": "code",
   "execution_count": 16,
   "metadata": {},
   "outputs": [
    {
     "data": {
      "text/html": [
       "<div>\n",
       "<style scoped>\n",
       "    .dataframe tbody tr th:only-of-type {\n",
       "        vertical-align: middle;\n",
       "    }\n",
       "\n",
       "    .dataframe tbody tr th {\n",
       "        vertical-align: top;\n",
       "    }\n",
       "\n",
       "    .dataframe thead th {\n",
       "        text-align: right;\n",
       "    }\n",
       "</style>\n",
       "<table border=\"1\" class=\"dataframe\">\n",
       "  <thead>\n",
       "    <tr style=\"text-align: right;\">\n",
       "      <th></th>\n",
       "      <th>sentiment</th>\n",
       "      <th>content</th>\n",
       "      <th>hashtags</th>\n",
       "      <th>tweet_text</th>\n",
       "      <th>token_tweet</th>\n",
       "      <th>lemmatize</th>\n",
       "      <th>stemming</th>\n",
       "      <th>final_tweet</th>\n",
       "    </tr>\n",
       "  </thead>\n",
       "  <tbody>\n",
       "    <tr>\n",
       "      <th>0</th>\n",
       "      <td>empty</td>\n",
       "      <td>@tiffanylue i know  i was listenin to bad habi...</td>\n",
       "      <td>{}</td>\n",
       "      <td>i know i was listenin to bad habit earlier and...</td>\n",
       "      <td>[know, listenin, bad, habit, earlier, started,...</td>\n",
       "      <td>[know, listenin, bad, habit, earlier, start, f...</td>\n",
       "      <td>[know, listenin, bad, habit, earlier, start, f...</td>\n",
       "      <td>know listenin bad habit earlier start freakin ...</td>\n",
       "    </tr>\n",
       "    <tr>\n",
       "      <th>1</th>\n",
       "      <td>sadness</td>\n",
       "      <td>Layin n bed with a headache  ughhhh...waitin o...</td>\n",
       "      <td>{}</td>\n",
       "      <td>layin n bed with a headache ughh waitin on you...</td>\n",
       "      <td>[layin, n, bed, headache, ughh, waitin, call]</td>\n",
       "      <td>[layin, n, bed, headache, ughh, waitin, call]</td>\n",
       "      <td>[layin, n, bed, headach, ughh, waitin, call]</td>\n",
       "      <td>layin n bed headach ughh waitin call</td>\n",
       "    </tr>\n",
       "    <tr>\n",
       "      <th>2</th>\n",
       "      <td>sadness</td>\n",
       "      <td>Funeral ceremony...gloomy friday...</td>\n",
       "      <td>{}</td>\n",
       "      <td>funeral ceremony gloomy friday</td>\n",
       "      <td>[funeral, ceremony, gloomy, friday]</td>\n",
       "      <td>[funeral, ceremony, gloomy, friday]</td>\n",
       "      <td>[funer, ceremoni, gloomi, friday]</td>\n",
       "      <td>funer ceremoni gloomi friday</td>\n",
       "    </tr>\n",
       "    <tr>\n",
       "      <th>3</th>\n",
       "      <td>enthusiasm</td>\n",
       "      <td>wants to hang out with friends SOON!</td>\n",
       "      <td>{}</td>\n",
       "      <td>wants to hang out with friends soon</td>\n",
       "      <td>[wants, hang, friends, soon]</td>\n",
       "      <td>[want, hang, friends, soon]</td>\n",
       "      <td>[want, hang, friend, soon]</td>\n",
       "      <td>want hang friend soon</td>\n",
       "    </tr>\n",
       "    <tr>\n",
       "      <th>4</th>\n",
       "      <td>neutral</td>\n",
       "      <td>@dannycastillo We want to trade with someone w...</td>\n",
       "      <td>{}</td>\n",
       "      <td>we want to trade with someone who has houston ...</td>\n",
       "      <td>[want, trade, someone, houston, tickets, one]</td>\n",
       "      <td>[want, trade, someone, houston, ticket, one]</td>\n",
       "      <td>[want, trade, someon, houston, ticket, one]</td>\n",
       "      <td>want trade someon houston ticket one</td>\n",
       "    </tr>\n",
       "    <tr>\n",
       "      <th>5</th>\n",
       "      <td>worry</td>\n",
       "      <td>Re-pinging @ghostridah14: why didn't you go to...</td>\n",
       "      <td>{}</td>\n",
       "      <td>re pinging why didn t you go to prom bc my bf ...</td>\n",
       "      <td>[pinging, go, prom, bc, bf, like, friends]</td>\n",
       "      <td>[ping, go, prom, bc, bf, like, friends]</td>\n",
       "      <td>[ping, go, prom, bc, bf, like, friend]</td>\n",
       "      <td>ping go prom bc bf like friend</td>\n",
       "    </tr>\n",
       "    <tr>\n",
       "      <th>6</th>\n",
       "      <td>sadness</td>\n",
       "      <td>I should be sleep, but im not! thinking about ...</td>\n",
       "      <td>{}</td>\n",
       "      <td>i should be sleep but im not thinking about an...</td>\n",
       "      <td>[sleep, im, thinking, old, friend, want, marri...</td>\n",
       "      <td>[sleep, im, think, old, friend, want, marry, d...</td>\n",
       "      <td>[sleep, im, think, old, friend, want, marri, d...</td>\n",
       "      <td>sleep im think old friend want marri damn want...</td>\n",
       "    </tr>\n",
       "    <tr>\n",
       "      <th>7</th>\n",
       "      <td>worry</td>\n",
       "      <td>Hmmm. http://www.djhero.com/ is down</td>\n",
       "      <td>{}</td>\n",
       "      <td>hmm is down</td>\n",
       "      <td>[hmm]</td>\n",
       "      <td>[hmm]</td>\n",
       "      <td>[hmm]</td>\n",
       "      <td>hmm</td>\n",
       "    </tr>\n",
       "    <tr>\n",
       "      <th>8</th>\n",
       "      <td>sadness</td>\n",
       "      <td>@charviray Charlene my love. I miss you</td>\n",
       "      <td>{}</td>\n",
       "      <td>charlene my love i miss you</td>\n",
       "      <td>[charlene, love, miss]</td>\n",
       "      <td>[charlene, love, miss]</td>\n",
       "      <td>[charlen, love, miss]</td>\n",
       "      <td>charlen love miss</td>\n",
       "    </tr>\n",
       "    <tr>\n",
       "      <th>9</th>\n",
       "      <td>sadness</td>\n",
       "      <td>@kelcouch I'm sorry  at least it's Friday?</td>\n",
       "      <td>{}</td>\n",
       "      <td>i m sorry at least it s friday</td>\n",
       "      <td>[sorry, least, friday]</td>\n",
       "      <td>[sorry, least, friday]</td>\n",
       "      <td>[sorri, least, friday]</td>\n",
       "      <td>sorri least friday</td>\n",
       "    </tr>\n",
       "  </tbody>\n",
       "</table>\n",
       "</div>"
      ],
      "text/plain": [
       "    sentiment                                            content hashtags  \\\n",
       "0       empty  @tiffanylue i know  i was listenin to bad habi...       {}   \n",
       "1     sadness  Layin n bed with a headache  ughhhh...waitin o...       {}   \n",
       "2     sadness                Funeral ceremony...gloomy friday...       {}   \n",
       "3  enthusiasm               wants to hang out with friends SOON!       {}   \n",
       "4     neutral  @dannycastillo We want to trade with someone w...       {}   \n",
       "5       worry  Re-pinging @ghostridah14: why didn't you go to...       {}   \n",
       "6     sadness  I should be sleep, but im not! thinking about ...       {}   \n",
       "7       worry               Hmmm. http://www.djhero.com/ is down       {}   \n",
       "8     sadness            @charviray Charlene my love. I miss you       {}   \n",
       "9     sadness         @kelcouch I'm sorry  at least it's Friday?       {}   \n",
       "\n",
       "                                          tweet_text  \\\n",
       "0  i know i was listenin to bad habit earlier and...   \n",
       "1  layin n bed with a headache ughh waitin on you...   \n",
       "2                    funeral ceremony gloomy friday    \n",
       "3               wants to hang out with friends soon    \n",
       "4  we want to trade with someone who has houston ...   \n",
       "5  re pinging why didn t you go to prom bc my bf ...   \n",
       "6  i should be sleep but im not thinking about an...   \n",
       "7                                        hmm is down   \n",
       "8                        charlene my love i miss you   \n",
       "9                    i m sorry at least it s friday    \n",
       "\n",
       "                                         token_tweet  \\\n",
       "0  [know, listenin, bad, habit, earlier, started,...   \n",
       "1      [layin, n, bed, headache, ughh, waitin, call]   \n",
       "2                [funeral, ceremony, gloomy, friday]   \n",
       "3                       [wants, hang, friends, soon]   \n",
       "4      [want, trade, someone, houston, tickets, one]   \n",
       "5         [pinging, go, prom, bc, bf, like, friends]   \n",
       "6  [sleep, im, thinking, old, friend, want, marri...   \n",
       "7                                              [hmm]   \n",
       "8                             [charlene, love, miss]   \n",
       "9                             [sorry, least, friday]   \n",
       "\n",
       "                                           lemmatize  \\\n",
       "0  [know, listenin, bad, habit, earlier, start, f...   \n",
       "1      [layin, n, bed, headache, ughh, waitin, call]   \n",
       "2                [funeral, ceremony, gloomy, friday]   \n",
       "3                        [want, hang, friends, soon]   \n",
       "4       [want, trade, someone, houston, ticket, one]   \n",
       "5            [ping, go, prom, bc, bf, like, friends]   \n",
       "6  [sleep, im, think, old, friend, want, marry, d...   \n",
       "7                                              [hmm]   \n",
       "8                             [charlene, love, miss]   \n",
       "9                             [sorry, least, friday]   \n",
       "\n",
       "                                            stemming  \\\n",
       "0  [know, listenin, bad, habit, earlier, start, f...   \n",
       "1       [layin, n, bed, headach, ughh, waitin, call]   \n",
       "2                  [funer, ceremoni, gloomi, friday]   \n",
       "3                         [want, hang, friend, soon]   \n",
       "4        [want, trade, someon, houston, ticket, one]   \n",
       "5             [ping, go, prom, bc, bf, like, friend]   \n",
       "6  [sleep, im, think, old, friend, want, marri, d...   \n",
       "7                                              [hmm]   \n",
       "8                              [charlen, love, miss]   \n",
       "9                             [sorri, least, friday]   \n",
       "\n",
       "                                         final_tweet  \n",
       "0  know listenin bad habit earlier start freakin ...  \n",
       "1               layin n bed headach ughh waitin call  \n",
       "2                       funer ceremoni gloomi friday  \n",
       "3                              want hang friend soon  \n",
       "4               want trade someon houston ticket one  \n",
       "5                     ping go prom bc bf like friend  \n",
       "6  sleep im think old friend want marri damn want...  \n",
       "7                                                hmm  \n",
       "8                                  charlen love miss  \n",
       "9                                 sorri least friday  "
      ]
     },
     "execution_count": 16,
     "metadata": {},
     "output_type": "execute_result"
    }
   ],
   "source": [
    "# creamos una nueva columna 'final_tweet' con los ultimos datos procesados en la función str_word\n",
    "df_copy['final_tweet']= df_copy.apply(lambda row: func.str_word(row['stemming']), axis=1)\n",
    "df_copy.head(10)"
   ]
  },
  {
   "cell_type": "markdown",
   "metadata": {},
   "source": [
    "# Frecuencia de ocurrencia\n",
    "\n",
    "### ➤ Obtendremos la ocurrencia de cada palabra con sklearn.feature_extraction.text"
   ]
  },
  {
   "cell_type": "markdown",
   "metadata": {},
   "source": [
    "Usaremos la función CountVectorizer de SciKit Learn que convierte una colección de documentos de texto en una matriz de conteos de tokens."
   ]
  },
  {
   "cell_type": "code",
   "execution_count": 17,
   "metadata": {},
   "outputs": [],
   "source": [
    "# Importamos la clase CountVectorizer\n",
    "from sklearn.feature_extraction.text import CountVectorizer"
   ]
  },
  {
   "cell_type": "code",
   "execution_count": 18,
   "metadata": {},
   "outputs": [],
   "source": [
    "# Aplicamos la clase para extraer las palabras mas repetidas\n",
    "count_vectorizer = CountVectorizer(stop_words='english')\n",
    "\n",
    "lista = df_copy['final_tweet']\n",
    "count_vectorizer_fit = count_vectorizer.fit_transform(lista)\n",
    "words = count_vectorizer.get_feature_names()\n",
    "words_freq = count_vectorizer_fit.toarray().sum(axis=0)\n",
    "\n",
    "lista1=list(zip(words,words_freq))\n",
    "df_freq = pd.DataFrame(lista1)\n",
    "df_freq.columns = ['Word', 'Freq']\n",
    "df_freq = df_freq.sort_values('Freq',ascending=False)"
   ]
  },
  {
   "cell_type": "markdown",
   "metadata": {},
   "source": [
    "### ➤ Consultamos las 15 palabras más repetidas"
   ]
  },
  {
   "cell_type": "code",
   "execution_count": 19,
   "metadata": {},
   "outputs": [
    {
     "data": {
      "text/html": [
       "<div>\n",
       "<style scoped>\n",
       "    .dataframe tbody tr th:only-of-type {\n",
       "        vertical-align: middle;\n",
       "    }\n",
       "\n",
       "    .dataframe tbody tr th {\n",
       "        vertical-align: top;\n",
       "    }\n",
       "\n",
       "    .dataframe thead th {\n",
       "        text-align: right;\n",
       "    }\n",
       "</style>\n",
       "<table border=\"1\" class=\"dataframe\">\n",
       "  <thead>\n",
       "    <tr style=\"text-align: right;\">\n",
       "      <th></th>\n",
       "      <th>Word</th>\n",
       "      <th>Freq</th>\n",
       "    </tr>\n",
       "  </thead>\n",
       "  <tbody>\n",
       "    <tr>\n",
       "      <th>4492</th>\n",
       "      <td>day</td>\n",
       "      <td>3631</td>\n",
       "    </tr>\n",
       "    <tr>\n",
       "      <th>7424</th>\n",
       "      <td>good</td>\n",
       "      <td>2372</td>\n",
       "    </tr>\n",
       "    <tr>\n",
       "      <th>20651</th>\n",
       "      <td>work</td>\n",
       "      <td>2207</td>\n",
       "    </tr>\n",
       "    <tr>\n",
       "      <th>10820</th>\n",
       "      <td>love</td>\n",
       "      <td>2149</td>\n",
       "    </tr>\n",
       "    <tr>\n",
       "      <th>10539</th>\n",
       "      <td>like</td>\n",
       "      <td>2084</td>\n",
       "    </tr>\n",
       "    <tr>\n",
       "      <th>18629</th>\n",
       "      <td>today</td>\n",
       "      <td>1675</td>\n",
       "    </tr>\n",
       "    <tr>\n",
       "      <th>18383</th>\n",
       "      <td>think</td>\n",
       "      <td>1601</td>\n",
       "    </tr>\n",
       "    <tr>\n",
       "      <th>18533</th>\n",
       "      <td>time</td>\n",
       "      <td>1588</td>\n",
       "    </tr>\n",
       "    <tr>\n",
       "      <th>10042</th>\n",
       "      <td>know</td>\n",
       "      <td>1506</td>\n",
       "    </tr>\n",
       "    <tr>\n",
       "      <th>7968</th>\n",
       "      <td>happi</td>\n",
       "      <td>1505</td>\n",
       "    </tr>\n",
       "    <tr>\n",
       "      <th>18298</th>\n",
       "      <td>thank</td>\n",
       "      <td>1499</td>\n",
       "    </tr>\n",
       "    <tr>\n",
       "      <th>10703</th>\n",
       "      <td>lol</td>\n",
       "      <td>1451</td>\n",
       "    </tr>\n",
       "    <tr>\n",
       "      <th>11086</th>\n",
       "      <td>make</td>\n",
       "      <td>1448</td>\n",
       "    </tr>\n",
       "    <tr>\n",
       "      <th>11770</th>\n",
       "      <td>miss</td>\n",
       "      <td>1391</td>\n",
       "    </tr>\n",
       "    <tr>\n",
       "      <th>20052</th>\n",
       "      <td>want</td>\n",
       "      <td>1385</td>\n",
       "    </tr>\n",
       "  </tbody>\n",
       "</table>\n",
       "</div>"
      ],
      "text/plain": [
       "        Word  Freq\n",
       "4492     day  3631\n",
       "7424    good  2372\n",
       "20651   work  2207\n",
       "10820   love  2149\n",
       "10539   like  2084\n",
       "18629  today  1675\n",
       "18383  think  1601\n",
       "18533   time  1588\n",
       "10042   know  1506\n",
       "7968   happi  1505\n",
       "18298  thank  1499\n",
       "10703    lol  1451\n",
       "11086   make  1448\n",
       "11770   miss  1391\n",
       "20052   want  1385"
      ]
     },
     "execution_count": 19,
     "metadata": {},
     "output_type": "execute_result"
    }
   ],
   "source": [
    "df_freq.head(15)"
   ]
  },
  {
   "cell_type": "markdown",
   "metadata": {},
   "source": [
    "### ➤ Graficamos la tabla anterior"
   ]
  },
  {
   "cell_type": "code",
   "execution_count": 20,
   "metadata": {},
   "outputs": [],
   "source": [
    "df_new = df_freq.head(15)"
   ]
  },
  {
   "cell_type": "code",
   "execution_count": 21,
   "metadata": {},
   "outputs": [
    {
     "data": {
      "image/png": "[encoded data removed]",
      "text/plain": [
       "<Figure size 864x432 with 1 Axes>"
      ]
     },
     "metadata": {
      "needs_background": "light"
     },
     "output_type": "display_data"
    }
   ],
   "source": [
    "plt.figure(figsize=(12,6))\n",
    "ax1 = sns.barplot(df_new['Word'], df_new['Freq'])\n",
    "plt.title('Palabras con mayor frecuencia')\n",
    "ax1.set_xticklabels(ax1.get_xticklabels(),rotation=90,ha='right')\n",
    "plt.tight_layout()\n",
    "plt.show()"
   ]
  },
  {
   "cell_type": "markdown",
   "metadata": {},
   "source": [
    "Como podemos observar las palabras mas repetidas dentro de los tweets son palabras cortas. Lideran el ranking: __'day', 'good', 'work', 'like' y 'love'__ ."
   ]
  },
  {
   "cell_type": "markdown",
   "metadata": {},
   "source": [
    "# Hito 2: Puntos 3 y 4\n",
    "\n",
    "# 3. Recodificación"
   ]
  },
  {
   "cell_type": "markdown",
   "metadata": {},
   "source": [
    "### ➤ Recodificaremos la variable sentiment con la función auxiliar: record_sent\n",
    "\n",
    "Nos interesa trabajar con dos tipos de emociones: positivas o negativas. Para ello generaremos la recodificación de cada una de las clases en una de las dos emociones. La clase neutral será clasificada de forma aleatoria."
   ]
  },
  {
   "cell_type": "code",
   "execution_count": 22,
   "metadata": {},
   "outputs": [
    {
     "data": {
      "text/html": [
       "<div>\n",
       "<style scoped>\n",
       "    .dataframe tbody tr th:only-of-type {\n",
       "        vertical-align: middle;\n",
       "    }\n",
       "\n",
       "    .dataframe tbody tr th {\n",
       "        vertical-align: top;\n",
       "    }\n",
       "\n",
       "    .dataframe thead th {\n",
       "        text-align: right;\n",
       "    }\n",
       "</style>\n",
       "<table border=\"1\" class=\"dataframe\">\n",
       "  <thead>\n",
       "    <tr style=\"text-align: right;\">\n",
       "      <th></th>\n",
       "      <th>sentiment</th>\n",
       "      <th>content</th>\n",
       "      <th>hashtags</th>\n",
       "      <th>tweet_text</th>\n",
       "      <th>token_tweet</th>\n",
       "      <th>lemmatize</th>\n",
       "      <th>stemming</th>\n",
       "      <th>final_tweet</th>\n",
       "      <th>recodification</th>\n",
       "    </tr>\n",
       "  </thead>\n",
       "  <tbody>\n",
       "    <tr>\n",
       "      <th>0</th>\n",
       "      <td>empty</td>\n",
       "      <td>@tiffanylue i know  i was listenin to bad habi...</td>\n",
       "      <td>{}</td>\n",
       "      <td>i know i was listenin to bad habit earlier and...</td>\n",
       "      <td>[know, listenin, bad, habit, earlier, started,...</td>\n",
       "      <td>[know, listenin, bad, habit, earlier, start, f...</td>\n",
       "      <td>[know, listenin, bad, habit, earlier, start, f...</td>\n",
       "      <td>know listenin bad habit earlier start freakin ...</td>\n",
       "      <td>Negative</td>\n",
       "    </tr>\n",
       "    <tr>\n",
       "      <th>1</th>\n",
       "      <td>sadness</td>\n",
       "      <td>Layin n bed with a headache  ughhhh...waitin o...</td>\n",
       "      <td>{}</td>\n",
       "      <td>layin n bed with a headache ughh waitin on you...</td>\n",
       "      <td>[layin, n, bed, headache, ughh, waitin, call]</td>\n",
       "      <td>[layin, n, bed, headache, ughh, waitin, call]</td>\n",
       "      <td>[layin, n, bed, headach, ughh, waitin, call]</td>\n",
       "      <td>layin n bed headach ughh waitin call</td>\n",
       "      <td>Negative</td>\n",
       "    </tr>\n",
       "    <tr>\n",
       "      <th>2</th>\n",
       "      <td>sadness</td>\n",
       "      <td>Funeral ceremony...gloomy friday...</td>\n",
       "      <td>{}</td>\n",
       "      <td>funeral ceremony gloomy friday</td>\n",
       "      <td>[funeral, ceremony, gloomy, friday]</td>\n",
       "      <td>[funeral, ceremony, gloomy, friday]</td>\n",
       "      <td>[funer, ceremoni, gloomi, friday]</td>\n",
       "      <td>funer ceremoni gloomi friday</td>\n",
       "      <td>Negative</td>\n",
       "    </tr>\n",
       "    <tr>\n",
       "      <th>3</th>\n",
       "      <td>enthusiasm</td>\n",
       "      <td>wants to hang out with friends SOON!</td>\n",
       "      <td>{}</td>\n",
       "      <td>wants to hang out with friends soon</td>\n",
       "      <td>[wants, hang, friends, soon]</td>\n",
       "      <td>[want, hang, friends, soon]</td>\n",
       "      <td>[want, hang, friend, soon]</td>\n",
       "      <td>want hang friend soon</td>\n",
       "      <td>Positive</td>\n",
       "    </tr>\n",
       "    <tr>\n",
       "      <th>4</th>\n",
       "      <td>neutral</td>\n",
       "      <td>@dannycastillo We want to trade with someone w...</td>\n",
       "      <td>{}</td>\n",
       "      <td>we want to trade with someone who has houston ...</td>\n",
       "      <td>[want, trade, someone, houston, tickets, one]</td>\n",
       "      <td>[want, trade, someone, houston, ticket, one]</td>\n",
       "      <td>[want, trade, someon, houston, ticket, one]</td>\n",
       "      <td>want trade someon houston ticket one</td>\n",
       "      <td>Positive</td>\n",
       "    </tr>\n",
       "    <tr>\n",
       "      <th>5</th>\n",
       "      <td>worry</td>\n",
       "      <td>Re-pinging @ghostridah14: why didn't you go to...</td>\n",
       "      <td>{}</td>\n",
       "      <td>re pinging why didn t you go to prom bc my bf ...</td>\n",
       "      <td>[pinging, go, prom, bc, bf, like, friends]</td>\n",
       "      <td>[ping, go, prom, bc, bf, like, friends]</td>\n",
       "      <td>[ping, go, prom, bc, bf, like, friend]</td>\n",
       "      <td>ping go prom bc bf like friend</td>\n",
       "      <td>Negative</td>\n",
       "    </tr>\n",
       "    <tr>\n",
       "      <th>6</th>\n",
       "      <td>sadness</td>\n",
       "      <td>I should be sleep, but im not! thinking about ...</td>\n",
       "      <td>{}</td>\n",
       "      <td>i should be sleep but im not thinking about an...</td>\n",
       "      <td>[sleep, im, thinking, old, friend, want, marri...</td>\n",
       "      <td>[sleep, im, think, old, friend, want, marry, d...</td>\n",
       "      <td>[sleep, im, think, old, friend, want, marri, d...</td>\n",
       "      <td>sleep im think old friend want marri damn want...</td>\n",
       "      <td>Negative</td>\n",
       "    </tr>\n",
       "    <tr>\n",
       "      <th>7</th>\n",
       "      <td>worry</td>\n",
       "      <td>Hmmm. http://www.djhero.com/ is down</td>\n",
       "      <td>{}</td>\n",
       "      <td>hmm is down</td>\n",
       "      <td>[hmm]</td>\n",
       "      <td>[hmm]</td>\n",
       "      <td>[hmm]</td>\n",
       "      <td>hmm</td>\n",
       "      <td>Negative</td>\n",
       "    </tr>\n",
       "    <tr>\n",
       "      <th>8</th>\n",
       "      <td>sadness</td>\n",
       "      <td>@charviray Charlene my love. I miss you</td>\n",
       "      <td>{}</td>\n",
       "      <td>charlene my love i miss you</td>\n",
       "      <td>[charlene, love, miss]</td>\n",
       "      <td>[charlene, love, miss]</td>\n",
       "      <td>[charlen, love, miss]</td>\n",
       "      <td>charlen love miss</td>\n",
       "      <td>Negative</td>\n",
       "    </tr>\n",
       "    <tr>\n",
       "      <th>9</th>\n",
       "      <td>sadness</td>\n",
       "      <td>@kelcouch I'm sorry  at least it's Friday?</td>\n",
       "      <td>{}</td>\n",
       "      <td>i m sorry at least it s friday</td>\n",
       "      <td>[sorry, least, friday]</td>\n",
       "      <td>[sorry, least, friday]</td>\n",
       "      <td>[sorri, least, friday]</td>\n",
       "      <td>sorri least friday</td>\n",
       "      <td>Negative</td>\n",
       "    </tr>\n",
       "  </tbody>\n",
       "</table>\n",
       "</div>"
      ],
      "text/plain": [
       "    sentiment                                            content hashtags  \\\n",
       "0       empty  @tiffanylue i know  i was listenin to bad habi...       {}   \n",
       "1     sadness  Layin n bed with a headache  ughhhh...waitin o...       {}   \n",
       "2     sadness                Funeral ceremony...gloomy friday...       {}   \n",
       "3  enthusiasm               wants to hang out with friends SOON!       {}   \n",
       "4     neutral  @dannycastillo We want to trade with someone w...       {}   \n",
       "5       worry  Re-pinging @ghostridah14: why didn't you go to...       {}   \n",
       "6     sadness  I should be sleep, but im not! thinking about ...       {}   \n",
       "7       worry               Hmmm. http://www.djhero.com/ is down       {}   \n",
       "8     sadness            @charviray Charlene my love. I miss you       {}   \n",
       "9     sadness         @kelcouch I'm sorry  at least it's Friday?       {}   \n",
       "\n",
       "                                          tweet_text  \\\n",
       "0  i know i was listenin to bad habit earlier and...   \n",
       "1  layin n bed with a headache ughh waitin on you...   \n",
       "2                    funeral ceremony gloomy friday    \n",
       "3               wants to hang out with friends soon    \n",
       "4  we want to trade with someone who has houston ...   \n",
       "5  re pinging why didn t you go to prom bc my bf ...   \n",
       "6  i should be sleep but im not thinking about an...   \n",
       "7                                        hmm is down   \n",
       "8                        charlene my love i miss you   \n",
       "9                    i m sorry at least it s friday    \n",
       "\n",
       "                                         token_tweet  \\\n",
       "0  [know, listenin, bad, habit, earlier, started,...   \n",
       "1      [layin, n, bed, headache, ughh, waitin, call]   \n",
       "2                [funeral, ceremony, gloomy, friday]   \n",
       "3                       [wants, hang, friends, soon]   \n",
       "4      [want, trade, someone, houston, tickets, one]   \n",
       "5         [pinging, go, prom, bc, bf, like, friends]   \n",
       "6  [sleep, im, thinking, old, friend, want, marri...   \n",
       "7                                              [hmm]   \n",
       "8                             [charlene, love, miss]   \n",
       "9                             [sorry, least, friday]   \n",
       "\n",
       "                                           lemmatize  \\\n",
       "0  [know, listenin, bad, habit, earlier, start, f...   \n",
       "1      [layin, n, bed, headache, ughh, waitin, call]   \n",
       "2                [funeral, ceremony, gloomy, friday]   \n",
       "3                        [want, hang, friends, soon]   \n",
       "4       [want, trade, someone, houston, ticket, one]   \n",
       "5            [ping, go, prom, bc, bf, like, friends]   \n",
       "6  [sleep, im, think, old, friend, want, marry, d...   \n",
       "7                                              [hmm]   \n",
       "8                             [charlene, love, miss]   \n",
       "9                             [sorry, least, friday]   \n",
       "\n",
       "                                            stemming  \\\n",
       "0  [know, listenin, bad, habit, earlier, start, f...   \n",
       "1       [layin, n, bed, headach, ughh, waitin, call]   \n",
       "2                  [funer, ceremoni, gloomi, friday]   \n",
       "3                         [want, hang, friend, soon]   \n",
       "4        [want, trade, someon, houston, ticket, one]   \n",
       "5             [ping, go, prom, bc, bf, like, friend]   \n",
       "6  [sleep, im, think, old, friend, want, marri, d...   \n",
       "7                                              [hmm]   \n",
       "8                              [charlen, love, miss]   \n",
       "9                             [sorri, least, friday]   \n",
       "\n",
       "                                         final_tweet recodification  \n",
       "0  know listenin bad habit earlier start freakin ...       Negative  \n",
       "1               layin n bed headach ughh waitin call       Negative  \n",
       "2                       funer ceremoni gloomi friday       Negative  \n",
       "3                              want hang friend soon       Positive  \n",
       "4               want trade someon houston ticket one       Positive  \n",
       "5                     ping go prom bc bf like friend       Negative  \n",
       "6  sleep im think old friend want marri damn want...       Negative  \n",
       "7                                                hmm       Negative  \n",
       "8                                  charlen love miss       Negative  \n",
       "9                                 sorri least friday       Negative  "
      ]
     },
     "execution_count": 22,
     "metadata": {},
     "output_type": "execute_result"
    }
   ],
   "source": [
    "# creamos una nueva columna 'recodification' con los ultimos datos procesados en la función recod_sent\n",
    "df_copy['recodification'] = np.vectorize(func.record_sent)(df_copy['sentiment'])\n",
    "df_copy.head(10)"
   ]
  },
  {
   "cell_type": "markdown",
   "metadata": {},
   "source": [
    "### ➤ Observamos la frecuencia del vector objetivo recodificado"
   ]
  },
  {
   "cell_type": "code",
   "execution_count": 23,
   "metadata": {},
   "outputs": [
    {
     "data": {
      "text/plain": [
       "Negative    22948\n",
       "Positive    17052\n",
       "Name: recodification, dtype: int64"
      ]
     },
     "execution_count": 23,
     "metadata": {},
     "output_type": "execute_result"
    }
   ],
   "source": [
    "# Frecuencia\n",
    "df_copy['recodification'].value_counts()"
   ]
  },
  {
   "cell_type": "code",
   "execution_count": 24,
   "metadata": {},
   "outputs": [
    {
     "data": {
      "image/png": "[encoded data removed]",
      "text/plain": [
       "<Figure size 864x432 with 1 Axes>"
      ]
     },
     "metadata": {
      "needs_background": "light"
     },
     "output_type": "display_data"
    }
   ],
   "source": [
    "# Grafico\n",
    "freq = df_copy['recodification'].value_counts()\n",
    "plt.figure(figsize=(12,6))\n",
    "ax1 = sns.countplot(x='recodification',data=df_copy,order=freq.index)\n",
    "plt.title('Sentimiento asociado al tweet')\n",
    "ax1.set_xticklabels(ax1.get_xticklabels())\n",
    "plt.tight_layout()\n",
    "plt.show()"
   ]
  },
  {
   "cell_type": "markdown",
   "metadata": {},
   "source": [
    "Como podemos observar, existen más tweets clasificados como negativos que positivos, y si lo contrastamos con la gráfica que esta en análisis exploratorio (antes de recodificar), es evidente que esto podria suceder ya que las frecuencias mas altas las tienen __'neutral'__, que fue clasificado de manera aleatoria y __'worry'__ que es negativa. "
   ]
  },
  {
   "cell_type": "markdown",
   "metadata": {},
   "source": [
    "# 4. Entrenamiento de modelos\n",
    "\n"
   ]
  },
  {
   "cell_type": "markdown",
   "metadata": {},
   "source": [
    "### ➤ Utilizaremos un modelo base de entrenamiento y validación \n",
    "\n",
    "\n",
    "Binarizaremos la variable objetivo:\n",
    "\n",
    "* Sentimiento Positivo = 1\n",
    "* Sentimiento Negativo = -1"
   ]
  },
  {
   "cell_type": "code",
   "execution_count": 25,
   "metadata": {},
   "outputs": [],
   "source": [
    "# binarizamos el vector objetivo para facilitar el modelamiento 1=Positivo; -1 = Negativo\n",
    "df_copy['recodification_2'] = np.where(df_copy['recodification'] == 'Positive', 1, -1)"
   ]
  },
  {
   "cell_type": "code",
   "execution_count": 26,
   "metadata": {},
   "outputs": [
    {
     "data": {
      "text/plain": [
       "-1    22948\n",
       " 1    17052\n",
       "Name: recodification_2, dtype: int64"
      ]
     },
     "execution_count": 26,
     "metadata": {},
     "output_type": "execute_result"
    }
   ],
   "source": [
    "df_copy['recodification_2'].value_counts()"
   ]
  },
  {
   "cell_type": "code",
   "execution_count": 27,
   "metadata": {},
   "outputs": [
    {
     "data": {
      "text/html": [
       "<div>\n",
       "<style scoped>\n",
       "    .dataframe tbody tr th:only-of-type {\n",
       "        vertical-align: middle;\n",
       "    }\n",
       "\n",
       "    .dataframe tbody tr th {\n",
       "        vertical-align: top;\n",
       "    }\n",
       "\n",
       "    .dataframe thead th {\n",
       "        text-align: right;\n",
       "    }\n",
       "</style>\n",
       "<table border=\"1\" class=\"dataframe\">\n",
       "  <thead>\n",
       "    <tr style=\"text-align: right;\">\n",
       "      <th></th>\n",
       "      <th>sentiment</th>\n",
       "      <th>content</th>\n",
       "      <th>hashtags</th>\n",
       "      <th>tweet_text</th>\n",
       "      <th>token_tweet</th>\n",
       "      <th>lemmatize</th>\n",
       "      <th>stemming</th>\n",
       "      <th>final_tweet</th>\n",
       "      <th>recodification</th>\n",
       "      <th>recodification_2</th>\n",
       "    </tr>\n",
       "  </thead>\n",
       "  <tbody>\n",
       "    <tr>\n",
       "      <th>0</th>\n",
       "      <td>empty</td>\n",
       "      <td>@tiffanylue i know  i was listenin to bad habi...</td>\n",
       "      <td>{}</td>\n",
       "      <td>i know i was listenin to bad habit earlier and...</td>\n",
       "      <td>[know, listenin, bad, habit, earlier, started,...</td>\n",
       "      <td>[know, listenin, bad, habit, earlier, start, f...</td>\n",
       "      <td>[know, listenin, bad, habit, earlier, start, f...</td>\n",
       "      <td>know listenin bad habit earlier start freakin ...</td>\n",
       "      <td>Negative</td>\n",
       "      <td>-1</td>\n",
       "    </tr>\n",
       "    <tr>\n",
       "      <th>1</th>\n",
       "      <td>sadness</td>\n",
       "      <td>Layin n bed with a headache  ughhhh...waitin o...</td>\n",
       "      <td>{}</td>\n",
       "      <td>layin n bed with a headache ughh waitin on you...</td>\n",
       "      <td>[layin, n, bed, headache, ughh, waitin, call]</td>\n",
       "      <td>[layin, n, bed, headache, ughh, waitin, call]</td>\n",
       "      <td>[layin, n, bed, headach, ughh, waitin, call]</td>\n",
       "      <td>layin n bed headach ughh waitin call</td>\n",
       "      <td>Negative</td>\n",
       "      <td>-1</td>\n",
       "    </tr>\n",
       "    <tr>\n",
       "      <th>2</th>\n",
       "      <td>sadness</td>\n",
       "      <td>Funeral ceremony...gloomy friday...</td>\n",
       "      <td>{}</td>\n",
       "      <td>funeral ceremony gloomy friday</td>\n",
       "      <td>[funeral, ceremony, gloomy, friday]</td>\n",
       "      <td>[funeral, ceremony, gloomy, friday]</td>\n",
       "      <td>[funer, ceremoni, gloomi, friday]</td>\n",
       "      <td>funer ceremoni gloomi friday</td>\n",
       "      <td>Negative</td>\n",
       "      <td>-1</td>\n",
       "    </tr>\n",
       "    <tr>\n",
       "      <th>3</th>\n",
       "      <td>enthusiasm</td>\n",
       "      <td>wants to hang out with friends SOON!</td>\n",
       "      <td>{}</td>\n",
       "      <td>wants to hang out with friends soon</td>\n",
       "      <td>[wants, hang, friends, soon]</td>\n",
       "      <td>[want, hang, friends, soon]</td>\n",
       "      <td>[want, hang, friend, soon]</td>\n",
       "      <td>want hang friend soon</td>\n",
       "      <td>Positive</td>\n",
       "      <td>1</td>\n",
       "    </tr>\n",
       "    <tr>\n",
       "      <th>4</th>\n",
       "      <td>neutral</td>\n",
       "      <td>@dannycastillo We want to trade with someone w...</td>\n",
       "      <td>{}</td>\n",
       "      <td>we want to trade with someone who has houston ...</td>\n",
       "      <td>[want, trade, someone, houston, tickets, one]</td>\n",
       "      <td>[want, trade, someone, houston, ticket, one]</td>\n",
       "      <td>[want, trade, someon, houston, ticket, one]</td>\n",
       "      <td>want trade someon houston ticket one</td>\n",
       "      <td>Positive</td>\n",
       "      <td>1</td>\n",
       "    </tr>\n",
       "  </tbody>\n",
       "</table>\n",
       "</div>"
      ],
      "text/plain": [
       "    sentiment                                            content hashtags  \\\n",
       "0       empty  @tiffanylue i know  i was listenin to bad habi...       {}   \n",
       "1     sadness  Layin n bed with a headache  ughhhh...waitin o...       {}   \n",
       "2     sadness                Funeral ceremony...gloomy friday...       {}   \n",
       "3  enthusiasm               wants to hang out with friends SOON!       {}   \n",
       "4     neutral  @dannycastillo We want to trade with someone w...       {}   \n",
       "\n",
       "                                          tweet_text  \\\n",
       "0  i know i was listenin to bad habit earlier and...   \n",
       "1  layin n bed with a headache ughh waitin on you...   \n",
       "2                    funeral ceremony gloomy friday    \n",
       "3               wants to hang out with friends soon    \n",
       "4  we want to trade with someone who has houston ...   \n",
       "\n",
       "                                         token_tweet  \\\n",
       "0  [know, listenin, bad, habit, earlier, started,...   \n",
       "1      [layin, n, bed, headache, ughh, waitin, call]   \n",
       "2                [funeral, ceremony, gloomy, friday]   \n",
       "3                       [wants, hang, friends, soon]   \n",
       "4      [want, trade, someone, houston, tickets, one]   \n",
       "\n",
       "                                           lemmatize  \\\n",
       "0  [know, listenin, bad, habit, earlier, start, f...   \n",
       "1      [layin, n, bed, headache, ughh, waitin, call]   \n",
       "2                [funeral, ceremony, gloomy, friday]   \n",
       "3                        [want, hang, friends, soon]   \n",
       "4       [want, trade, someone, houston, ticket, one]   \n",
       "\n",
       "                                            stemming  \\\n",
       "0  [know, listenin, bad, habit, earlier, start, f...   \n",
       "1       [layin, n, bed, headach, ughh, waitin, call]   \n",
       "2                  [funer, ceremoni, gloomi, friday]   \n",
       "3                         [want, hang, friend, soon]   \n",
       "4        [want, trade, someon, houston, ticket, one]   \n",
       "\n",
       "                                         final_tweet recodification  \\\n",
       "0  know listenin bad habit earlier start freakin ...       Negative   \n",
       "1               layin n bed headach ughh waitin call       Negative   \n",
       "2                       funer ceremoni gloomi friday       Negative   \n",
       "3                              want hang friend soon       Positive   \n",
       "4               want trade someon houston ticket one       Positive   \n",
       "\n",
       "   recodification_2  \n",
       "0                -1  \n",
       "1                -1  \n",
       "2                -1  \n",
       "3                 1  \n",
       "4                 1  "
      ]
     },
     "execution_count": 27,
     "metadata": {},
     "output_type": "execute_result"
    }
   ],
   "source": [
    "df_copy.head()"
   ]
  },
  {
   "cell_type": "code",
   "execution_count": 28,
   "metadata": {},
   "outputs": [],
   "source": [
    "from sklearn.model_selection import train_test_split # genera matrices de entrenamiento y validación"
   ]
  },
  {
   "cell_type": "code",
   "execution_count": 29,
   "metadata": {},
   "outputs": [],
   "source": [
    "# Definimos nuestra matriz de atributos\n",
    "X = count_vectorizer.fit_transform(df_copy[\"final_tweet\"])\n",
    "# Definimos vector objetivo\n",
    "y = df_copy['recodification_2']\n",
    "\n",
    "# Generamos conjunto de entrenamiento (train) y validación (test).\n",
    "X_train, X_test, y_train, y_test = train_test_split(X, y, test_size=.33, random_state=23748)"
   ]
  },
  {
   "cell_type": "markdown",
   "metadata": {},
   "source": [
    "##  Modelos a utilizar\n",
    "\n",
    "Los modelos que utilizaremos para la clasificasión de los tweets serán:\n",
    "\n",
    "* __Naive Bayes__ =  Muy utilizado y da grandes resultados cuando se usa para clasificación y análisis de texto.\n",
    "* __Logistic Regression__ =  Es un clasificador lineal binario en donde la variable dependiente es categórica \n",
    "* __KNN__ = El algoritmo K-Nearest Neighbors, también llamado KNN, es uno de los más populares para el reconocimiento de patrones y correlaciones.\n",
    "* __Árboles de decisión__ = El uso de árboles de decisión es bueno para la extracción y clasificación de texto\n",
    "* __AdaBoost__ =  Es una de las mejores opciones para árboles de decisión binarios de clasificación, muy util en clasificación de texto. \n",
    "* __SVM__ = Este algoritmo obtiene el hiperplano más óptimo para una clasificación binaria\n",
    "\n"
   ]
  },
  {
   "cell_type": "markdown",
   "metadata": {},
   "source": [
    "### ➤ Realizamos los imports necesarios"
   ]
  },
  {
   "cell_type": "code",
   "execution_count": 30,
   "metadata": {},
   "outputs": [],
   "source": [
    "from sklearn.naive_bayes import MultinomialNB\n",
    "from sklearn.neighbors import KNeighborsClassifier\n",
    "from sklearn.tree import DecisionTreeClassifier\n",
    "from sklearn.ensemble import AdaBoostClassifier\n",
    "from sklearn.linear_model import LogisticRegression\n",
    "from sklearn.svm import SVC\n",
    "\n",
    "from sklearn.metrics import classification_report "
   ]
  },
  {
   "cell_type": "markdown",
   "metadata": {},
   "source": [
    "### ➤ Instanciamos los modelos a analizar"
   ]
  },
  {
   "cell_type": "code",
   "execution_count": 31,
   "metadata": {},
   "outputs": [],
   "source": [
    "naive_bayes = MultinomialNB().fit(X_train, y_train)\n",
    "knn_model = KNeighborsClassifier().fit(X_train, y_train)\n",
    "logistic_regression = LogisticRegression().fit(X_train, y_train)\n",
    "tree_class = DecisionTreeClassifier().fit(X_train, y_train)\n",
    "ada_class = AdaBoostClassifier().fit(X_train, y_train)\n",
    "SVM_model = SVC().fit(X_train, y_train)"
   ]
  },
  {
   "cell_type": "markdown",
   "metadata": {},
   "source": [
    "## Métricas\n",
    "\n",
    "__Precisión (del ingles Precision)__: La precisión mide la proporción de identificaciones positivas que son realmente correctas. Nótese que su valor aumenta a    medida que el número de falsos positivos disminuye\n",
    "\n",
    "\n",
    "\n",
    "__Exhaustividad (del inglés Recall)__: La  cobertura es  la  proporción  de  elementos  positivos  reales  identificados  acertadamente. También se  puede  ver  como  la  capacidad  que  tiene  el  modelo  de  construir de  manera  correcta las  clases. Cuanto  más  cercano  a  1, mejor  estarán  definidas  las distintas  clases existentes ya  que su  valor aumenta a medida que disminuye el número de falsos negativos\n",
    "\n",
    "__Valor-F(del inglés F-score)__:Es habitual que para medirla eficiencia de un modelo de clasificación se haga uso de los valores de cobertura y exhaustividad. Para ello, el valor-F se presenta como la media armónica  entre  ambas  medidas  y  suele  utilizarse  como  referencia  para  comparar  el  rendimiento entrevarios modelos. \n",
    "\n",
    "__Exactitud(del   inglés  Accuracy)__:Esta  es  la  medida  de  rendimiento  más  simple  e  intuitiva  y representa la razónentre laspredicciones correctassobre el total de predicciones realizadas. Dicho de  otra  manera,  es  el  número  de  elementos  clasificados correctamente entre  el  número  total  de clasificaciones llevadas a cabo.\n",
    "\n",
    "<img src='02.jpg'>"
   ]
  },
  {
   "cell_type": "markdown",
   "metadata": {},
   "source": [
    "### ➤ Reportes sin modificar hiperparámetros\n",
    "\n",
    "__Estrategia para la grilla:__\n",
    "\n",
    "Se determinara el clasification report sin modificación de hiperparámetros para luego escoger los mejores modelos y pasarlos por la grilla (Esto se debe principalmente a que el código en la grilla tarda mucho en cargar)"
   ]
  },
  {
   "cell_type": "code",
   "execution_count": 32,
   "metadata": {},
   "outputs": [
    {
     "name": "stdout",
     "output_type": "stream",
     "text": [
      "Naive Bayes\n",
      "============================================================\n",
      "              precision    recall  f1-score   support\n",
      "\n",
      "          -1       0.66      0.75      0.70      7577\n",
      "           1       0.59      0.49      0.54      5623\n",
      "\n",
      "    accuracy                           0.64     13200\n",
      "   macro avg       0.63      0.62      0.62     13200\n",
      "weighted avg       0.63      0.64      0.63     13200\n",
      "\n",
      "------------------------------------------------------------\n",
      "KNN model\n",
      "============================================================\n",
      "              precision    recall  f1-score   support\n",
      "\n",
      "          -1       0.62      0.67      0.65      7577\n",
      "           1       0.51      0.45      0.48      5623\n",
      "\n",
      "    accuracy                           0.58     13200\n",
      "   macro avg       0.57      0.56      0.56     13200\n",
      "weighted avg       0.57      0.58      0.58     13200\n",
      "\n",
      "------------------------------------------------------------\n",
      "Logistic Regression\n",
      "============================================================\n",
      "              precision    recall  f1-score   support\n",
      "\n",
      "          -1       0.66      0.74      0.70      7577\n",
      "           1       0.59      0.49      0.54      5623\n",
      "\n",
      "    accuracy                           0.64     13200\n",
      "   macro avg       0.63      0.62      0.62     13200\n",
      "weighted avg       0.63      0.64      0.63     13200\n",
      "\n",
      "------------------------------------------------------------\n",
      "Decision Tree Classifier\n",
      "============================================================\n",
      "              precision    recall  f1-score   support\n",
      "\n",
      "          -1       0.64      0.68      0.66      7577\n",
      "           1       0.53      0.49      0.51      5623\n",
      "\n",
      "    accuracy                           0.60     13200\n",
      "   macro avg       0.58      0.58      0.58     13200\n",
      "weighted avg       0.59      0.60      0.59     13200\n",
      "\n",
      "------------------------------------------------------------\n",
      "AdaBoostClassifier\n",
      "============================================================\n",
      "              precision    recall  f1-score   support\n",
      "\n",
      "          -1       0.65      0.82      0.72      7577\n",
      "           1       0.61      0.39      0.48      5623\n",
      "\n",
      "    accuracy                           0.64     13200\n",
      "   macro avg       0.63      0.61      0.60     13200\n",
      "weighted avg       0.63      0.64      0.62     13200\n",
      "\n",
      "------------------------------------------------------------\n",
      "SVM model\n",
      "============================================================\n",
      "              precision    recall  f1-score   support\n",
      "\n",
      "          -1       0.57      1.00      0.73      7577\n",
      "           1       0.00      0.00      0.00      5623\n",
      "\n",
      "    accuracy                           0.57     13200\n",
      "   macro avg       0.29      0.50      0.36     13200\n",
      "weighted avg       0.33      0.57      0.42     13200\n",
      "\n",
      "------------------------------------------------------------\n"
     ]
    }
   ],
   "source": [
    "models=[naive_bayes,knn_model, logistic_regression, tree_class, ada_class, SVM_model]\n",
    "\n",
    "nombres=['Naive Bayes','KNN model', 'Logistic Regression', 'Decision Tree Classifier', 'AdaBoost Classifier', 'SVM model']\n",
    "\n",
    "for i in range(6):\n",
    "    print('{}'.format(nombres[i]))\n",
    "    print('=' * 60)\n",
    "    print(classification_report(y_test, models[i].predict(X_test)))\n",
    "    print('-' * 60)"
   ]
  },
  {
   "cell_type": "markdown",
   "metadata": {},
   "source": [
    "En base al reporte se determinó que los modelos Naive Bayes, Logistic Regression y AdaBoost son los que tienen un mejor f1 (resultado armónico entre precision y recall) y serán los que pasen por el Gridsearch. Profundizaremos en los reportes de clasificación posterior a la grilla.\n",
    "### ➤ Gridsearch"
   ]
  },
  {
   "cell_type": "code",
   "execution_count": 35,
   "metadata": {},
   "outputs": [],
   "source": [
    "from sklearn.model_selection import  GridSearchCV"
   ]
  },
  {
   "cell_type": "code",
   "execution_count": 53,
   "metadata": {},
   "outputs": [],
   "source": [
    "# Modificación de hiperparámetros. Los definimos en base a los mas usados en clases\n",
    "naive_params = {'alpha': [0.1, 1, 1.5, 5, 10]}\n",
    "log_params = {'penalty' : ['l1', 'l2'],'C' : [0.001, 0.01, 0.1, 1, 10, 100]}\n",
    "ada_params = {'learning_rate': [0.01, 0.1, 0.5],'n_estimators': [50, 100, 500, 1000, 2000]}"
   ]
  },
  {
   "cell_type": "code",
   "execution_count": 37,
   "metadata": {},
   "outputs": [],
   "source": [
    "#Aplicamos Gridsearch con validación cruzada = 2 para que no demore demasiado la grilla\n",
    "grid_naive = GridSearchCV(naive_bayes, param_grid = naive_params, n_jobs=-1, cv=2 )\n",
    "grid_log = GridSearchCV(logistic_regression, param_grid = log_params, n_jobs=-1, cv=2 )\n",
    "grid_ada = GridSearchCV(ada_class, param_grid = ada_params, n_jobs=-1, cv=2 )"
   ]
  },
  {
   "cell_type": "code",
   "execution_count": 38,
   "metadata": {},
   "outputs": [
    {
     "data": {
      "text/plain": [
       "{'alpha': 1.5}"
      ]
     },
     "execution_count": 38,
     "metadata": {},
     "output_type": "execute_result"
    }
   ],
   "source": [
    "# Mejor hiperparámetro para Naive Bayes\n",
    "grid_naive.fit(X_train, y_train)\n",
    "grid_naive.best_params_"
   ]
  },
  {
   "cell_type": "code",
   "execution_count": 39,
   "metadata": {},
   "outputs": [
    {
     "data": {
      "text/plain": [
       "{'C': 0.1, 'penalty': 'l2'}"
      ]
     },
     "execution_count": 39,
     "metadata": {},
     "output_type": "execute_result"
    }
   ],
   "source": [
    "# Mejor hiperparámetro para Logistic Regression\n",
    "grid_log.fit(X_train, y_train)\n",
    "grid_log.best_params_"
   ]
  },
  {
   "cell_type": "code",
   "execution_count": 56,
   "metadata": {},
   "outputs": [
    {
     "data": {
      "text/plain": [
       "{'learning_rate': 0.1, 'n_estimators': 2000}"
      ]
     },
     "execution_count": 56,
     "metadata": {},
     "output_type": "execute_result"
    }
   ],
   "source": [
    "# Mejor hiperparámetro para AdaBoost\n",
    "grid_ada.fit(X_train, y_train)\n",
    "grid_ada.best_params_"
   ]
  },
  {
   "cell_type": "code",
   "execution_count": 58,
   "metadata": {},
   "outputs": [],
   "source": [
    "# Instanciamos los modelos modificando los hiperparámetros\n",
    "naive_bayes_best = MultinomialNB(alpha=1.5)\n",
    "logistic_regression_best = LogisticRegression(C=0.1, penalty= 'l2', random_state=23748)\n",
    "ada_best = AdaBoostClassifier(learning_rate = 0.1, n_estimators = 2000)"
   ]
  },
  {
   "cell_type": "code",
   "execution_count": 61,
   "metadata": {},
   "outputs": [
    {
     "data": {
      "text/plain": [
       "MultinomialNB(alpha=1.5, class_prior=None, fit_prior=True)"
      ]
     },
     "execution_count": 61,
     "metadata": {},
     "output_type": "execute_result"
    }
   ],
   "source": [
    "#Entrenamos naive\n",
    "naive_bayes_best.fit(X_train, y_train)"
   ]
  },
  {
   "cell_type": "code",
   "execution_count": 62,
   "metadata": {},
   "outputs": [
    {
     "data": {
      "text/plain": [
       "LogisticRegression(C=0.1, class_weight=None, dual=False, fit_intercept=True,\n",
       "                   intercept_scaling=1, l1_ratio=None, max_iter=100,\n",
       "                   multi_class='warn', n_jobs=None, penalty='l2',\n",
       "                   random_state=23748, solver='warn', tol=0.0001, verbose=0,\n",
       "                   warm_start=False)"
      ]
     },
     "execution_count": 62,
     "metadata": {},
     "output_type": "execute_result"
    }
   ],
   "source": [
    "#Entrenamos Logistic\n",
    "logistic_regression_best.fit(X_train, y_train)"
   ]
  },
  {
   "cell_type": "code",
   "execution_count": 59,
   "metadata": {},
   "outputs": [
    {
     "data": {
      "text/plain": [
       "AdaBoostClassifier(algorithm='SAMME.R', base_estimator=None, learning_rate=0.1,\n",
       "                   n_estimators=2000, random_state=None)"
      ]
     },
     "execution_count": 59,
     "metadata": {},
     "output_type": "execute_result"
    }
   ],
   "source": [
    "#Entrenamos Adaboost\n",
    "ada_best.fit(X_train, y_train)"
   ]
  },
  {
   "cell_type": "markdown",
   "metadata": {},
   "source": [
    "### ➤ Reportes con hiperparámetros modificados"
   ]
  },
  {
   "cell_type": "code",
   "execution_count": 63,
   "metadata": {},
   "outputs": [
    {
     "name": "stdout",
     "output_type": "stream",
     "text": [
      "Naive Bayes\n",
      "============================================================\n",
      "              precision    recall  f1-score   support\n",
      "\n",
      "          -1       0.66      0.77      0.71      7577\n",
      "           1       0.60      0.47      0.53      5623\n",
      "\n",
      "    accuracy                           0.64     13200\n",
      "   macro avg       0.63      0.62      0.62     13200\n",
      "weighted avg       0.63      0.64      0.63     13200\n",
      "\n",
      "------------------------------------------------------------\n",
      "Logistic Regression\n",
      "============================================================\n",
      "              precision    recall  f1-score   support\n",
      "\n",
      "          -1       0.65      0.81      0.73      7577\n",
      "           1       0.63      0.42      0.50      5623\n",
      "\n",
      "    accuracy                           0.65     13200\n",
      "   macro avg       0.64      0.62      0.61     13200\n",
      "weighted avg       0.64      0.65      0.63     13200\n",
      "\n",
      "------------------------------------------------------------\n",
      "AdaBoost Classifier\n",
      "============================================================\n",
      "              precision    recall  f1-score   support\n",
      "\n",
      "          -1       0.64      0.85      0.73      7577\n",
      "           1       0.64      0.34      0.45      5623\n",
      "\n",
      "    accuracy                           0.64     13200\n",
      "   macro avg       0.64      0.60      0.59     13200\n",
      "weighted avg       0.64      0.64      0.61     13200\n",
      "\n",
      "------------------------------------------------------------\n"
     ]
    }
   ],
   "source": [
    "#Hacemos un nuevo report\n",
    "models=[naive_bayes_best, logistic_regression_best, ada_best]\n",
    "\n",
    "nombres=['Naive Bayes','Logistic Regression', 'AdaBoost Classifier']\n",
    "\n",
    "for i in range(3):\n",
    "    print('{}'.format(nombres[i]))\n",
    "    print('=' * 60)\n",
    "    print(classification_report(y_test, models[i].predict(X_test)))\n",
    "    print('-' * 60)"
   ]
  },
  {
   "cell_type": "markdown",
   "metadata": {},
   "source": [
    "Al modificar los hiperparámetros podemos ver que los resultados cambiaron, algunas metricas mejoraron y otras empeoraron. Los modelos tienen un mejor desempeño para predicir correctamente los sentimientos negativos por sobre los positivos, esto se condice con que los negativos son mayoría.\n",
    "\n",
    "Los tres modelos presentan un precision  mas o menos parecido en positivos(1) y negativos (-1), clasificando las variables de manera correcta sobre un 60% en los tres modelos.\n",
    "\n",
    "En cuanto al recall, las métricas para clasificar los sentimientos negativos(-1)son bastante buenas superando el 77%, pero deja mucho que desear con respecto a la clasificacion acertada de los sentimientos positivos(1) ya que son numeros bastante bajos, siendo AdaBoost el mas bajo en esta categoría con solo un 34% de aciertos, lo cual indicaría que dentro de los omitidos existe un alto número de falsos negativos.\n",
    "\n",
    "En cuanto a f1 las metricas son parecidas en los tres modelos, pero adaboost se cae un poco mas en predecir de manera correcta los positivos.\n",
    "\n",
    "Siempre es bueno graficar el rango de errores con el cual opera nuestro modelo. Para ello vamos a implementar la curva roc que va a aevaluar la relacion entre falsos positivos y falsos negativos. "
   ]
  },
  {
   "cell_type": "markdown",
   "metadata": {},
   "source": [
    "### ➤ Curva ROC"
   ]
  },
  {
   "cell_type": "code",
   "execution_count": 66,
   "metadata": {},
   "outputs": [],
   "source": [
    "from sklearn.metrics import accuracy_score\n",
    "from sklearn.metrics import auc\n",
    "from sklearn.metrics import roc_auc_score\n",
    "from sklearn.metrics import roc_curve"
   ]
  },
  {
   "cell_type": "code",
   "execution_count": 69,
   "metadata": {},
   "outputs": [
    {
     "name": "stdout",
     "output_type": "stream",
     "text": [
      "Auc del modelo: Naive Bayes es 0.68\n",
      "Auc del modelo: Logistic_regression es 0.7\n",
      "Auc del modelo: AdaBoost es 0.69\n"
     ]
    },
    {
     "data": {
      "text/plain": [
       "<matplotlib.legend.Legend at 0x21de64f6160>"
      ]
     },
     "execution_count": 69,
     "metadata": {},
     "output_type": "execute_result"
    },
    {
     "data": {
      "image/png": "[encoded data removed]",
      "text/plain": [
       "<Figure size 720x432 with 1 Axes>"
      ]
     },
     "metadata": {
      "needs_background": "light"
     },
     "output_type": "display_data"
    }
   ],
   "source": [
    "#Curva ROC\n",
    "\n",
    "plt.rcParams['figure.figsize'] = (10, 6)\n",
    "\n",
    "models=[naive_bayes_best, logistic_regression_best, ada_best]\n",
    "   \n",
    "nombres=['Naive Bayes', 'Logistic_regression', 'AdaBoost']\n",
    "         \n",
    "y_hats=[]\n",
    "indicador1=[]\n",
    "indicador2=[]\n",
    "indicador3=[]\n",
    "\n",
    "#Accuracy\n",
    "for i in range(3):\n",
    "    y_hats.append(models[i].predict_proba(X_test)[:,1])\n",
    "    false_positive, true_positive, threshold = roc_curve(y_test, y_hats [i])\n",
    "    indicador1.append(false_positive)\n",
    "    indicador2.append(true_positive)\n",
    "    indicador3.append(threshold)\n",
    "    print(\"Auc del modelo: {} es {}\".format(nombres[i],roc_auc_score(y_test, y_hats [i]).round(2)))\n",
    "\n",
    "#Grafico curva ROC\n",
    "plt.title('Curva ROC')\n",
    "for i in range(3): \n",
    "    plt.plot(indicador1[i], indicador2[i], lw=1, label=\"modelo: {}\".format(nombres[i]) )\n",
    "    plt.plot([0, 1], ls=\"--\", lw=1)\n",
    "plt.plot([0, 0], [1, 0] , c='limegreen', lw=3), plt.plot([1, 1] , c='limegreen', lw=3)\n",
    "plt.ylabel('Verdaderos Positivos')\n",
    "plt.xlabel('Falsos Positivos');\n",
    "plt.legend()"
   ]
  },
  {
   "cell_type": "markdown",
   "metadata": {},
   "source": [
    "Al analizar los AUC de la curva ROC, podemos observar que Logistic Regression es capaz de clasificar mejor los verdaderos positivos alcanzando un 70%, le siguen AdaBoost con un 69% y luego Naive Bayes con un 68%. Los resultados son bastante parejos.\n",
    "\n",
    "Lo que me informa el area bajo la curva es que tantos falsos positivos se necesitan para obtener una razon de verdaderos positivos. En el gráfico se observa lo sgte, aproximadamente el 80% de las clasificaciones correctas se obtienen cuando tenemos el 55% aprox. de observaciones incorrectas.\n",
    "\n"
   ]
  },
  {
   "cell_type": "markdown",
   "metadata": {},
   "source": [
    "# Hito 3 : Punto 5\n",
    "\n",
    "En base a que los AUC son muy parejos utilizaremos los resultados de classification report para serializar los dos mejores. \n",
    "Si volvemos a los reportes podemos observar que Logistic y Bayes tienden a ser mas equilibrados al clasificar sentimientos tanto positivos como negativos, por esta razón se serializarán ambos"
   ]
  },
  {
   "cell_type": "code",
   "execution_count": 71,
   "metadata": {},
   "outputs": [],
   "source": [
    "#Serialización de los modelos\n",
    "import pickle\n",
    "pickle.dump(logistic_regression_best, open('logistic_Hurtado_Escobar_Bustamante.sav','wb'))\n",
    "pickle.dump(naive_bayes_best , open('naive_Hurtado_Escobar_Bustamante.sav','wb'))"
   ]
  }
 ],
 "metadata": {
  "kernelspec": {
   "display_name": "Python 3",
   "language": "python",
   "name": "python3"
  },
  "language_info": {
   "codemirror_mode": {
    "name": "ipython",
    "version": 3
   },
   "file_extension": ".py",
   "mimetype": "text/x-python",
   "name": "python",
   "nbconvert_exporter": "python",
   "pygments_lexer": "ipython3",
   "version": "3.7.4"
  }
 },
 "nbformat": 4,
 "nbformat_minor": 2
}
